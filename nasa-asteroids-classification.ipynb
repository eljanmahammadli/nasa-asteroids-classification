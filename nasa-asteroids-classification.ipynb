{
 "cells": [
  {
   "cell_type": "markdown",
   "metadata": {},
   "source": [
    "# XgboostClassifier_RandomizedSearchCV\n",
    "\n",
    "\n",
    "\n",
    "\n",
    "**STRUCTURE**\n",
    "\n",
    "*In this notebook, the use of the 'xgboost' algorithm for classification is demonstrated. The scope of this case study is to predict whether an asteroid can be hazardous or not based on its characteristics/properties(NASA Asteroid dataset). In the first part of this project a feature selection takes place so as to identify the dataset features that are to be used as inputs to the model and to drop all the uneccesary columns. In addition a mini exploratory analysis is provided that includes a) a heatmap of the correlations between the dataset features, b) a plot of the correlation between the output (dependent) parameter and each input (independent) feature and c) a countplot to observe whether the classes of the output feature are balanced or not.*\n",
    "\n",
    "*In the second part of this project there is use of the 'RandomizedSearchCV' and 'XGBClassifier' function. 'RandomizedSearchCV' function takes as input a set of values for each of the selected 'xgboost' model hyperparameters and does a randomized search (fit & score approach) so as to determine an optimal value for each of them. In contrast to 'GridSearchCV', randomized search combines the hyperparameters values randomly (whereas in 'GridSearchCV' all possible combinations are tested) based on the parameters distribution. Tuning the values of hyperparameters (learning rate,max depth,min_child_weight,gamma,etc.) is important as it can improve the model training performance and avoid/minimize overfitting (by making the model less sensitive to noise and by contolling the complexity of its structure). The optimal hyperparameter values determined by the random search  are then used by the 'xgboost' classifier for fitting (training set) and prediction (test set). 'Xgboost' is an ensemble supervised machine learning algorithm (based on decision trees) that tries to reduce the residuals (difference between target and predicted values) of the previous tree each time a new tree is added (similar to 'Gradient Boosting') and it is also capable of reducing the computational complexity and time of the training compared to other machine learning models (data storage in CPU cache).*\n",
    "\n",
    "\n",
    "\n",
    "\n",
    "**The Dataset (.csv file format) for this project has been obtained from Kaggle:**\n",
    "\n",
    "\"*NASA: Asteroids Classification*\" -- File: \"nasa.csv\" -- Source:https://www.kaggle.com/shrutimehta/nasa-asteroids-classification\n",
    "\n"
   ]
  },
  {
   "cell_type": "markdown",
   "metadata": {},
   "source": [
    "## Part A"
   ]
  },
  {
   "cell_type": "code",
   "execution_count": 76,
   "metadata": {},
   "outputs": [],
   "source": [
    "# Importing the Libraries\n",
    "import numpy as np\n",
    "import pandas as pd\n",
    "import matplotlib.pyplot as plt\n",
    "import seaborn as sns\n",
    "import warnings\n",
    "warnings.filterwarnings('ignore')"
   ]
  },
  {
   "cell_type": "code",
   "execution_count": 77,
   "metadata": {},
   "outputs": [
    {
     "data": {
      "text/html": [
       "<div>\n",
       "<style scoped>\n",
       "    .dataframe tbody tr th:only-of-type {\n",
       "        vertical-align: middle;\n",
       "    }\n",
       "\n",
       "    .dataframe tbody tr th {\n",
       "        vertical-align: top;\n",
       "    }\n",
       "\n",
       "    .dataframe thead th {\n",
       "        text-align: right;\n",
       "    }\n",
       "</style>\n",
       "<table border=\"1\" class=\"dataframe\">\n",
       "  <thead>\n",
       "    <tr style=\"text-align: right;\">\n",
       "      <th></th>\n",
       "      <th>Neo Reference ID</th>\n",
       "      <th>Name</th>\n",
       "      <th>Absolute Magnitude</th>\n",
       "      <th>Est Dia in KM(min)</th>\n",
       "      <th>Est Dia in KM(max)</th>\n",
       "      <th>Est Dia in M(min)</th>\n",
       "      <th>Est Dia in M(max)</th>\n",
       "      <th>Est Dia in Miles(min)</th>\n",
       "      <th>Est Dia in Miles(max)</th>\n",
       "      <th>Est Dia in Feet(min)</th>\n",
       "      <th>...</th>\n",
       "      <th>Asc Node Longitude</th>\n",
       "      <th>Orbital Period</th>\n",
       "      <th>Perihelion Distance</th>\n",
       "      <th>Perihelion Arg</th>\n",
       "      <th>Aphelion Dist</th>\n",
       "      <th>Perihelion Time</th>\n",
       "      <th>Mean Anomaly</th>\n",
       "      <th>Mean Motion</th>\n",
       "      <th>Equinox</th>\n",
       "      <th>Hazardous</th>\n",
       "    </tr>\n",
       "  </thead>\n",
       "  <tbody>\n",
       "    <tr>\n",
       "      <th>0</th>\n",
       "      <td>3703080</td>\n",
       "      <td>3703080</td>\n",
       "      <td>21.6</td>\n",
       "      <td>0.127220</td>\n",
       "      <td>0.284472</td>\n",
       "      <td>127.219879</td>\n",
       "      <td>284.472297</td>\n",
       "      <td>0.079051</td>\n",
       "      <td>0.176763</td>\n",
       "      <td>417.388066</td>\n",
       "      <td>...</td>\n",
       "      <td>314.373913</td>\n",
       "      <td>609.599786</td>\n",
       "      <td>0.808259</td>\n",
       "      <td>57.257470</td>\n",
       "      <td>2.005764</td>\n",
       "      <td>2.458162e+06</td>\n",
       "      <td>264.837533</td>\n",
       "      <td>0.590551</td>\n",
       "      <td>J2000</td>\n",
       "      <td>True</td>\n",
       "    </tr>\n",
       "    <tr>\n",
       "      <th>1</th>\n",
       "      <td>3723955</td>\n",
       "      <td>3723955</td>\n",
       "      <td>21.3</td>\n",
       "      <td>0.146068</td>\n",
       "      <td>0.326618</td>\n",
       "      <td>146.067964</td>\n",
       "      <td>326.617897</td>\n",
       "      <td>0.090762</td>\n",
       "      <td>0.202951</td>\n",
       "      <td>479.225620</td>\n",
       "      <td>...</td>\n",
       "      <td>136.717242</td>\n",
       "      <td>425.869294</td>\n",
       "      <td>0.718200</td>\n",
       "      <td>313.091975</td>\n",
       "      <td>1.497352</td>\n",
       "      <td>2.457795e+06</td>\n",
       "      <td>173.741112</td>\n",
       "      <td>0.845330</td>\n",
       "      <td>J2000</td>\n",
       "      <td>False</td>\n",
       "    </tr>\n",
       "    <tr>\n",
       "      <th>2</th>\n",
       "      <td>2446862</td>\n",
       "      <td>2446862</td>\n",
       "      <td>20.3</td>\n",
       "      <td>0.231502</td>\n",
       "      <td>0.517654</td>\n",
       "      <td>231.502122</td>\n",
       "      <td>517.654482</td>\n",
       "      <td>0.143849</td>\n",
       "      <td>0.321655</td>\n",
       "      <td>759.521423</td>\n",
       "      <td>...</td>\n",
       "      <td>259.475979</td>\n",
       "      <td>643.580228</td>\n",
       "      <td>0.950791</td>\n",
       "      <td>248.415038</td>\n",
       "      <td>1.966857</td>\n",
       "      <td>2.458120e+06</td>\n",
       "      <td>292.893654</td>\n",
       "      <td>0.559371</td>\n",
       "      <td>J2000</td>\n",
       "      <td>True</td>\n",
       "    </tr>\n",
       "    <tr>\n",
       "      <th>3</th>\n",
       "      <td>3092506</td>\n",
       "      <td>3092506</td>\n",
       "      <td>27.4</td>\n",
       "      <td>0.008801</td>\n",
       "      <td>0.019681</td>\n",
       "      <td>8.801465</td>\n",
       "      <td>19.680675</td>\n",
       "      <td>0.005469</td>\n",
       "      <td>0.012229</td>\n",
       "      <td>28.876199</td>\n",
       "      <td>...</td>\n",
       "      <td>57.173266</td>\n",
       "      <td>514.082140</td>\n",
       "      <td>0.983902</td>\n",
       "      <td>18.707701</td>\n",
       "      <td>1.527904</td>\n",
       "      <td>2.457902e+06</td>\n",
       "      <td>68.741007</td>\n",
       "      <td>0.700277</td>\n",
       "      <td>J2000</td>\n",
       "      <td>False</td>\n",
       "    </tr>\n",
       "    <tr>\n",
       "      <th>4</th>\n",
       "      <td>3514799</td>\n",
       "      <td>3514799</td>\n",
       "      <td>21.6</td>\n",
       "      <td>0.127220</td>\n",
       "      <td>0.284472</td>\n",
       "      <td>127.219879</td>\n",
       "      <td>284.472297</td>\n",
       "      <td>0.079051</td>\n",
       "      <td>0.176763</td>\n",
       "      <td>417.388066</td>\n",
       "      <td>...</td>\n",
       "      <td>84.629307</td>\n",
       "      <td>495.597821</td>\n",
       "      <td>0.967687</td>\n",
       "      <td>158.263596</td>\n",
       "      <td>1.483543</td>\n",
       "      <td>2.457814e+06</td>\n",
       "      <td>135.142133</td>\n",
       "      <td>0.726395</td>\n",
       "      <td>J2000</td>\n",
       "      <td>True</td>\n",
       "    </tr>\n",
       "  </tbody>\n",
       "</table>\n",
       "<p>5 rows × 40 columns</p>\n",
       "</div>"
      ],
      "text/plain": [
       "   Neo Reference ID     Name  Absolute Magnitude  Est Dia in KM(min)  \\\n",
       "0           3703080  3703080                21.6            0.127220   \n",
       "1           3723955  3723955                21.3            0.146068   \n",
       "2           2446862  2446862                20.3            0.231502   \n",
       "3           3092506  3092506                27.4            0.008801   \n",
       "4           3514799  3514799                21.6            0.127220   \n",
       "\n",
       "   Est Dia in KM(max)  Est Dia in M(min)  Est Dia in M(max)  \\\n",
       "0            0.284472         127.219879         284.472297   \n",
       "1            0.326618         146.067964         326.617897   \n",
       "2            0.517654         231.502122         517.654482   \n",
       "3            0.019681           8.801465          19.680675   \n",
       "4            0.284472         127.219879         284.472297   \n",
       "\n",
       "   Est Dia in Miles(min)  Est Dia in Miles(max)  Est Dia in Feet(min)  ...  \\\n",
       "0               0.079051               0.176763            417.388066  ...   \n",
       "1               0.090762               0.202951            479.225620  ...   \n",
       "2               0.143849               0.321655            759.521423  ...   \n",
       "3               0.005469               0.012229             28.876199  ...   \n",
       "4               0.079051               0.176763            417.388066  ...   \n",
       "\n",
       "   Asc Node Longitude Orbital Period  Perihelion Distance  Perihelion Arg  \\\n",
       "0          314.373913     609.599786             0.808259       57.257470   \n",
       "1          136.717242     425.869294             0.718200      313.091975   \n",
       "2          259.475979     643.580228             0.950791      248.415038   \n",
       "3           57.173266     514.082140             0.983902       18.707701   \n",
       "4           84.629307     495.597821             0.967687      158.263596   \n",
       "\n",
       "   Aphelion Dist  Perihelion Time  Mean Anomaly  Mean Motion  Equinox  \\\n",
       "0       2.005764     2.458162e+06    264.837533     0.590551    J2000   \n",
       "1       1.497352     2.457795e+06    173.741112     0.845330    J2000   \n",
       "2       1.966857     2.458120e+06    292.893654     0.559371    J2000   \n",
       "3       1.527904     2.457902e+06     68.741007     0.700277    J2000   \n",
       "4       1.483543     2.457814e+06    135.142133     0.726395    J2000   \n",
       "\n",
       "   Hazardous  \n",
       "0       True  \n",
       "1      False  \n",
       "2       True  \n",
       "3      False  \n",
       "4       True  \n",
       "\n",
       "[5 rows x 40 columns]"
      ]
     },
     "execution_count": 77,
     "metadata": {},
     "output_type": "execute_result"
    }
   ],
   "source": [
    "# Importing the dataset\n",
    "data=pd.read_csv('nasa.csv')\n",
    "# Dataset First 5 records\n",
    "data.head()"
   ]
  },
  {
   "cell_type": "code",
   "execution_count": 78,
   "metadata": {},
   "outputs": [
    {
     "data": {
      "text/plain": [
       "Index(['Neo Reference ID', 'Name', 'Absolute Magnitude', 'Est Dia in KM(min)',\n",
       "       'Est Dia in KM(max)', 'Est Dia in M(min)', 'Est Dia in M(max)',\n",
       "       'Est Dia in Miles(min)', 'Est Dia in Miles(max)',\n",
       "       'Est Dia in Feet(min)', 'Est Dia in Feet(max)', 'Close Approach Date',\n",
       "       'Epoch Date Close Approach', 'Relative Velocity km per sec',\n",
       "       'Relative Velocity km per hr', 'Miles per hour',\n",
       "       'Miss Dist.(Astronomical)', 'Miss Dist.(lunar)',\n",
       "       'Miss Dist.(kilometers)', 'Miss Dist.(miles)', 'Orbiting Body',\n",
       "       'Orbit ID', 'Orbit Determination Date', 'Orbit Uncertainity',\n",
       "       'Minimum Orbit Intersection', 'Jupiter Tisserand Invariant',\n",
       "       'Epoch Osculation', 'Eccentricity', 'Semi Major Axis', 'Inclination',\n",
       "       'Asc Node Longitude', 'Orbital Period', 'Perihelion Distance',\n",
       "       'Perihelion Arg', 'Aphelion Dist', 'Perihelion Time', 'Mean Anomaly',\n",
       "       'Mean Motion', 'Equinox', 'Hazardous'],\n",
       "      dtype='object')"
      ]
     },
     "execution_count": 78,
     "metadata": {},
     "output_type": "execute_result"
    }
   ],
   "source": [
    "# Dataset columns\n",
    "data.columns"
   ]
  },
  {
   "cell_type": "code",
   "execution_count": 79,
   "metadata": {
    "scrolled": false
   },
   "outputs": [
    {
     "name": "stdout",
     "output_type": "stream",
     "text": [
      "<class 'pandas.core.frame.DataFrame'>\n",
      "RangeIndex: 4687 entries, 0 to 4686\n",
      "Data columns (total 40 columns):\n",
      " #   Column                        Non-Null Count  Dtype  \n",
      "---  ------                        --------------  -----  \n",
      " 0   Neo Reference ID              4687 non-null   int64  \n",
      " 1   Name                          4687 non-null   int64  \n",
      " 2   Absolute Magnitude            4687 non-null   float64\n",
      " 3   Est Dia in KM(min)            4687 non-null   float64\n",
      " 4   Est Dia in KM(max)            4687 non-null   float64\n",
      " 5   Est Dia in M(min)             4687 non-null   float64\n",
      " 6   Est Dia in M(max)             4687 non-null   float64\n",
      " 7   Est Dia in Miles(min)         4687 non-null   float64\n",
      " 8   Est Dia in Miles(max)         4687 non-null   float64\n",
      " 9   Est Dia in Feet(min)          4687 non-null   float64\n",
      " 10  Est Dia in Feet(max)          4687 non-null   float64\n",
      " 11  Close Approach Date           4687 non-null   object \n",
      " 12  Epoch Date Close Approach     4687 non-null   int64  \n",
      " 13  Relative Velocity km per sec  4687 non-null   float64\n",
      " 14  Relative Velocity km per hr   4687 non-null   float64\n",
      " 15  Miles per hour                4687 non-null   float64\n",
      " 16  Miss Dist.(Astronomical)      4687 non-null   float64\n",
      " 17  Miss Dist.(lunar)             4687 non-null   float64\n",
      " 18  Miss Dist.(kilometers)        4687 non-null   float64\n",
      " 19  Miss Dist.(miles)             4687 non-null   float64\n",
      " 20  Orbiting Body                 4687 non-null   object \n",
      " 21  Orbit ID                      4687 non-null   int64  \n",
      " 22  Orbit Determination Date      4687 non-null   object \n",
      " 23  Orbit Uncertainity            4687 non-null   int64  \n",
      " 24  Minimum Orbit Intersection    4687 non-null   float64\n",
      " 25  Jupiter Tisserand Invariant   4687 non-null   float64\n",
      " 26  Epoch Osculation              4687 non-null   float64\n",
      " 27  Eccentricity                  4687 non-null   float64\n",
      " 28  Semi Major Axis               4687 non-null   float64\n",
      " 29  Inclination                   4687 non-null   float64\n",
      " 30  Asc Node Longitude            4687 non-null   float64\n",
      " 31  Orbital Period                4687 non-null   float64\n",
      " 32  Perihelion Distance           4687 non-null   float64\n",
      " 33  Perihelion Arg                4687 non-null   float64\n",
      " 34  Aphelion Dist                 4687 non-null   float64\n",
      " 35  Perihelion Time               4687 non-null   float64\n",
      " 36  Mean Anomaly                  4687 non-null   float64\n",
      " 37  Mean Motion                   4687 non-null   float64\n",
      " 38  Equinox                       4687 non-null   object \n",
      " 39  Hazardous                     4687 non-null   bool   \n",
      "dtypes: bool(1), float64(30), int64(5), object(4)\n",
      "memory usage: 1.4+ MB\n"
     ]
    }
   ],
   "source": [
    "# Dataset Info\n",
    "data.info()"
   ]
  },
  {
   "cell_type": "code",
   "execution_count": 80,
   "metadata": {},
   "outputs": [],
   "source": [
    "# In this classification example, the model has to learn to classify whether an asteroid is hazardous or not based on its\n",
    "# characteristics/properties (without knowning its name or reference id). For this reason, the 'Neo Reference ID'  and 'Name'\n",
    "# columns are to be dropped from the dataset.\n",
    "data=data.drop(['Neo Reference ID','Name'],axis=1)"
   ]
  },
  {
   "cell_type": "code",
   "execution_count": 81,
   "metadata": {},
   "outputs": [],
   "source": [
    "# Date features are also dropped from the dataset\n",
    "data=data.drop(['Close Approach Date','Orbit Determination Date'],axis=1)"
   ]
  },
  {
   "cell_type": "code",
   "execution_count": 82,
   "metadata": {},
   "outputs": [
    {
     "data": {
      "text/plain": [
       "Earth    4687\n",
       "Name: Orbiting Body, dtype: int64"
      ]
     },
     "execution_count": 82,
     "metadata": {},
     "output_type": "execute_result"
    }
   ],
   "source": [
    "# This column has only one class ('Earth'), therefore it is not going to contribute during the training, thus it will be dropped\n",
    "data['Orbiting Body'].value_counts()"
   ]
  },
  {
   "cell_type": "code",
   "execution_count": 83,
   "metadata": {},
   "outputs": [
    {
     "data": {
      "text/plain": [
       "J2000    4687\n",
       "Name: Equinox, dtype: int64"
      ]
     },
     "execution_count": 83,
     "metadata": {},
     "output_type": "execute_result"
    }
   ],
   "source": [
    "# This column has also only one class('J2000'),therefore it is also going to be dropped\n",
    "data['Equinox'].value_counts()"
   ]
  },
  {
   "cell_type": "code",
   "execution_count": 84,
   "metadata": {},
   "outputs": [],
   "source": [
    "# Dropping 'Orbiting Body' and 'Equinox' columns from the dataset\n",
    "data=data.drop(['Orbiting Body','Equinox'],axis=1)"
   ]
  },
  {
   "cell_type": "code",
   "execution_count": 85,
   "metadata": {},
   "outputs": [
    {
     "data": {
      "text/html": [
       "<div>\n",
       "<style scoped>\n",
       "    .dataframe tbody tr th:only-of-type {\n",
       "        vertical-align: middle;\n",
       "    }\n",
       "\n",
       "    .dataframe tbody tr th {\n",
       "        vertical-align: top;\n",
       "    }\n",
       "\n",
       "    .dataframe thead th {\n",
       "        text-align: right;\n",
       "    }\n",
       "</style>\n",
       "<table border=\"1\" class=\"dataframe\">\n",
       "  <thead>\n",
       "    <tr style=\"text-align: right;\">\n",
       "      <th></th>\n",
       "      <th>Absolute_Magnitude</th>\n",
       "      <th>Est_Dia_in_KM(min)</th>\n",
       "      <th>Est_Dia_in_KM(max)</th>\n",
       "      <th>Est_Dia_in_M(min)</th>\n",
       "      <th>Est_Dia_in_M(max)</th>\n",
       "      <th>Est_Dia_in_Miles(min)</th>\n",
       "      <th>Est_Dia_in_Miles(max)</th>\n",
       "      <th>Est_Dia_in_Feet(min)</th>\n",
       "      <th>Est_Dia_in_Feet(max)</th>\n",
       "      <th>Epoch_Date_Close_Approach</th>\n",
       "      <th>...</th>\n",
       "      <th>Inclination</th>\n",
       "      <th>Asc_Node_Longitude</th>\n",
       "      <th>Orbital_Period</th>\n",
       "      <th>Perihelion_Distance</th>\n",
       "      <th>Perihelion_Arg</th>\n",
       "      <th>Aphelion_Dist</th>\n",
       "      <th>Perihelion_Time</th>\n",
       "      <th>Mean_Anomaly</th>\n",
       "      <th>Mean_Motion</th>\n",
       "      <th>Hazardous</th>\n",
       "    </tr>\n",
       "  </thead>\n",
       "  <tbody>\n",
       "    <tr>\n",
       "      <th>0</th>\n",
       "      <td>21.6</td>\n",
       "      <td>0.127220</td>\n",
       "      <td>0.284472</td>\n",
       "      <td>127.219879</td>\n",
       "      <td>284.472297</td>\n",
       "      <td>0.079051</td>\n",
       "      <td>0.176763</td>\n",
       "      <td>417.388066</td>\n",
       "      <td>933.308089</td>\n",
       "      <td>788947200000</td>\n",
       "      <td>...</td>\n",
       "      <td>6.025981</td>\n",
       "      <td>314.373913</td>\n",
       "      <td>609.599786</td>\n",
       "      <td>0.808259</td>\n",
       "      <td>57.257470</td>\n",
       "      <td>2.005764</td>\n",
       "      <td>2.458162e+06</td>\n",
       "      <td>264.837533</td>\n",
       "      <td>0.590551</td>\n",
       "      <td>True</td>\n",
       "    </tr>\n",
       "    <tr>\n",
       "      <th>1</th>\n",
       "      <td>21.3</td>\n",
       "      <td>0.146068</td>\n",
       "      <td>0.326618</td>\n",
       "      <td>146.067964</td>\n",
       "      <td>326.617897</td>\n",
       "      <td>0.090762</td>\n",
       "      <td>0.202951</td>\n",
       "      <td>479.225620</td>\n",
       "      <td>1071.581063</td>\n",
       "      <td>788947200000</td>\n",
       "      <td>...</td>\n",
       "      <td>28.412996</td>\n",
       "      <td>136.717242</td>\n",
       "      <td>425.869294</td>\n",
       "      <td>0.718200</td>\n",
       "      <td>313.091975</td>\n",
       "      <td>1.497352</td>\n",
       "      <td>2.457795e+06</td>\n",
       "      <td>173.741112</td>\n",
       "      <td>0.845330</td>\n",
       "      <td>False</td>\n",
       "    </tr>\n",
       "    <tr>\n",
       "      <th>2</th>\n",
       "      <td>20.3</td>\n",
       "      <td>0.231502</td>\n",
       "      <td>0.517654</td>\n",
       "      <td>231.502122</td>\n",
       "      <td>517.654482</td>\n",
       "      <td>0.143849</td>\n",
       "      <td>0.321655</td>\n",
       "      <td>759.521423</td>\n",
       "      <td>1698.341531</td>\n",
       "      <td>789552000000</td>\n",
       "      <td>...</td>\n",
       "      <td>4.237961</td>\n",
       "      <td>259.475979</td>\n",
       "      <td>643.580228</td>\n",
       "      <td>0.950791</td>\n",
       "      <td>248.415038</td>\n",
       "      <td>1.966857</td>\n",
       "      <td>2.458120e+06</td>\n",
       "      <td>292.893654</td>\n",
       "      <td>0.559371</td>\n",
       "      <td>True</td>\n",
       "    </tr>\n",
       "    <tr>\n",
       "      <th>3</th>\n",
       "      <td>27.4</td>\n",
       "      <td>0.008801</td>\n",
       "      <td>0.019681</td>\n",
       "      <td>8.801465</td>\n",
       "      <td>19.680675</td>\n",
       "      <td>0.005469</td>\n",
       "      <td>0.012229</td>\n",
       "      <td>28.876199</td>\n",
       "      <td>64.569144</td>\n",
       "      <td>790156800000</td>\n",
       "      <td>...</td>\n",
       "      <td>7.905894</td>\n",
       "      <td>57.173266</td>\n",
       "      <td>514.082140</td>\n",
       "      <td>0.983902</td>\n",
       "      <td>18.707701</td>\n",
       "      <td>1.527904</td>\n",
       "      <td>2.457902e+06</td>\n",
       "      <td>68.741007</td>\n",
       "      <td>0.700277</td>\n",
       "      <td>False</td>\n",
       "    </tr>\n",
       "    <tr>\n",
       "      <th>4</th>\n",
       "      <td>21.6</td>\n",
       "      <td>0.127220</td>\n",
       "      <td>0.284472</td>\n",
       "      <td>127.219879</td>\n",
       "      <td>284.472297</td>\n",
       "      <td>0.079051</td>\n",
       "      <td>0.176763</td>\n",
       "      <td>417.388066</td>\n",
       "      <td>933.308089</td>\n",
       "      <td>790156800000</td>\n",
       "      <td>...</td>\n",
       "      <td>16.793382</td>\n",
       "      <td>84.629307</td>\n",
       "      <td>495.597821</td>\n",
       "      <td>0.967687</td>\n",
       "      <td>158.263596</td>\n",
       "      <td>1.483543</td>\n",
       "      <td>2.457814e+06</td>\n",
       "      <td>135.142133</td>\n",
       "      <td>0.726395</td>\n",
       "      <td>True</td>\n",
       "    </tr>\n",
       "  </tbody>\n",
       "</table>\n",
       "<p>5 rows × 34 columns</p>\n",
       "</div>"
      ],
      "text/plain": [
       "   Absolute_Magnitude  Est_Dia_in_KM(min)  Est_Dia_in_KM(max)  \\\n",
       "0                21.6            0.127220            0.284472   \n",
       "1                21.3            0.146068            0.326618   \n",
       "2                20.3            0.231502            0.517654   \n",
       "3                27.4            0.008801            0.019681   \n",
       "4                21.6            0.127220            0.284472   \n",
       "\n",
       "   Est_Dia_in_M(min)  Est_Dia_in_M(max)  Est_Dia_in_Miles(min)  \\\n",
       "0         127.219879         284.472297               0.079051   \n",
       "1         146.067964         326.617897               0.090762   \n",
       "2         231.502122         517.654482               0.143849   \n",
       "3           8.801465          19.680675               0.005469   \n",
       "4         127.219879         284.472297               0.079051   \n",
       "\n",
       "   Est_Dia_in_Miles(max)  Est_Dia_in_Feet(min)  Est_Dia_in_Feet(max)  \\\n",
       "0               0.176763            417.388066            933.308089   \n",
       "1               0.202951            479.225620           1071.581063   \n",
       "2               0.321655            759.521423           1698.341531   \n",
       "3               0.012229             28.876199             64.569144   \n",
       "4               0.176763            417.388066            933.308089   \n",
       "\n",
       "   Epoch_Date_Close_Approach  ...  Inclination  Asc_Node_Longitude  \\\n",
       "0               788947200000  ...     6.025981          314.373913   \n",
       "1               788947200000  ...    28.412996          136.717242   \n",
       "2               789552000000  ...     4.237961          259.475979   \n",
       "3               790156800000  ...     7.905894           57.173266   \n",
       "4               790156800000  ...    16.793382           84.629307   \n",
       "\n",
       "   Orbital_Period  Perihelion_Distance  Perihelion_Arg  Aphelion_Dist  \\\n",
       "0      609.599786             0.808259       57.257470       2.005764   \n",
       "1      425.869294             0.718200      313.091975       1.497352   \n",
       "2      643.580228             0.950791      248.415038       1.966857   \n",
       "3      514.082140             0.983902       18.707701       1.527904   \n",
       "4      495.597821             0.967687      158.263596       1.483543   \n",
       "\n",
       "   Perihelion_Time  Mean_Anomaly  Mean_Motion  Hazardous  \n",
       "0     2.458162e+06    264.837533     0.590551       True  \n",
       "1     2.457795e+06    173.741112     0.845330      False  \n",
       "2     2.458120e+06    292.893654     0.559371       True  \n",
       "3     2.457902e+06     68.741007     0.700277      False  \n",
       "4     2.457814e+06    135.142133     0.726395       True  \n",
       "\n",
       "[5 rows x 34 columns]"
      ]
     },
     "execution_count": 85,
     "metadata": {},
     "output_type": "execute_result"
    }
   ],
   "source": [
    "# Replacing the white space in column names with underscore\n",
    "data.columns=data.columns.str.replace(' ','_')\n",
    "data.head()"
   ]
  },
  {
   "cell_type": "code",
   "execution_count": 86,
   "metadata": {},
   "outputs": [
    {
     "data": {
      "text/plain": [
       "<AxesSubplot:>"
      ]
     },
     "execution_count": 86,
     "metadata": {},
     "output_type": "execute_result"
    },
    {
     "data": {
      "image/png": "[encoded data removed]",
      "text/plain": [
       "<Figure size 1008x720 with 2 Axes>"
      ]
     },
     "metadata": {
      "needs_background": "light"
     },
     "output_type": "display_data"
    }
   ],
   "source": [
    "# Heatmap displaying the correlations between the dataset features. \n",
    "plt.figure(figsize=(14,10))\n",
    "sns.heatmap(data.corr(),cmap='plasma')"
   ]
  },
  {
   "cell_type": "code",
   "execution_count": 87,
   "metadata": {},
   "outputs": [
    {
     "data": {
      "text/plain": [
       "Text(0.5, 1.0, \"Correlations of the numerical variables to 'Hazardous' feature\")"
      ]
     },
     "execution_count": 87,
     "metadata": {},
     "output_type": "execute_result"
    },
    {
     "data": {
      "image/png": "[encoded data removed]",
      "text/plain": [
       "<Figure size 1008x360 with 1 Axes>"
      ]
     },
     "metadata": {
      "needs_background": "light"
     },
     "output_type": "display_data"
    }
   ],
   "source": [
    "# Bar plot showing the correlations between the 'Hazardous' feature and the other numerical variables. \n",
    "# Correlation varies between -1 and 1, where a) values close to 1 indicate positive correlation, b) values close to -1\n",
    "# indicate negative correlation between two variables.\n",
    "plt.figure(figsize=(14,5))\n",
    "plt.rcParams['font.size']=12\n",
    "data.corr()['Hazardous'].sort_values().drop('Hazardous').plot(kind='bar')\n",
    "plt.title(\"Correlations of the numerical variables to 'Hazardous' feature\")"
   ]
  },
  {
   "cell_type": "code",
   "execution_count": 88,
   "metadata": {
    "scrolled": true
   },
   "outputs": [
    {
     "data": {
      "image/png": "[encoded data removed]",
      "text/plain": [
       "<Figure size 720x432 with 1 Axes>"
      ]
     },
     "metadata": {
      "needs_background": "light"
     },
     "output_type": "display_data"
    }
   ],
   "source": [
    "# Due to the boolean nature of the dependent(output) parameter (Hazardous:True/False), the countplot is \n",
    "# employed to observe whether or not the data samples are balanced with respect to the 'Hazardous' feature entries.\n",
    "# As expected, the majority of the Asteroids are not Hazardous (83.89%). Therefore,the classification should not be based\n",
    "# on accuracy as the model would be 83.89% accurate, but on other relevant metrics such as precision,recall and F1-Score\n",
    "plt.figure(figsize=(10,6))\n",
    "total = len(data['Hazardous'])\n",
    "count_entries=sns.countplot(x='Hazardous',data=data)\n",
    "plt.xlabel('Hazardous',fontweight='bold')\n",
    "plt.ylabel('Count',fontweight='bold')\n",
    "for p in count_entries.patches:\n",
    "    count_entries.annotate('{:.2f}%'.format(100*p.get_height()/total), (p.get_x() + p.get_width() / 2., p.get_height()), \n",
    "                               ha = 'center', va = 'center', xytext = (0, -20), textcoords = 'offset points')"
   ]
  },
  {
   "cell_type": "code",
   "execution_count": null,
   "metadata": {},
   "outputs": [],
   "source": []
  },
  {
   "cell_type": "markdown",
   "metadata": {},
   "source": [
    "# BayesianOptimization"
   ]
  },
  {
   "cell_type": "markdown",
   "metadata": {},
   "source": [
    "pip install h2o"
   ]
  },
  {
   "cell_type": "code",
   "execution_count": 109,
   "metadata": {},
   "outputs": [
    {
     "name": "stdout",
     "output_type": "stream",
     "text": [
      "Checking whether there is an H2O instance running at http://localhost:54321 . connected.\n"
     ]
    },
    {
     "data": {
      "text/html": [
       "<div style=\"overflow:auto\"><table style=\"width:50%\"><tr><td>H2O_cluster_uptime:</td>\n",
       "<td>19 mins 02 secs</td></tr>\n",
       "<tr><td>H2O_cluster_timezone:</td>\n",
       "<td>Asia/Baku</td></tr>\n",
       "<tr><td>H2O_data_parsing_timezone:</td>\n",
       "<td>UTC</td></tr>\n",
       "<tr><td>H2O_cluster_version:</td>\n",
       "<td>3.32.1.1</td></tr>\n",
       "<tr><td>H2O_cluster_version_age:</td>\n",
       "<td>13 days </td></tr>\n",
       "<tr><td>H2O_cluster_name:</td>\n",
       "<td>H2O_from_python_eljan_c58wf7</td></tr>\n",
       "<tr><td>H2O_cluster_total_nodes:</td>\n",
       "<td>1</td></tr>\n",
       "<tr><td>H2O_cluster_free_memory:</td>\n",
       "<td>3.524 Gb</td></tr>\n",
       "<tr><td>H2O_cluster_total_cores:</td>\n",
       "<td>8</td></tr>\n",
       "<tr><td>H2O_cluster_allowed_cores:</td>\n",
       "<td>8</td></tr>\n",
       "<tr><td>H2O_cluster_status:</td>\n",
       "<td>locked, healthy</td></tr>\n",
       "<tr><td>H2O_connection_url:</td>\n",
       "<td>http://localhost:54321</td></tr>\n",
       "<tr><td>H2O_connection_proxy:</td>\n",
       "<td>{\"http\": null, \"https\": null}</td></tr>\n",
       "<tr><td>H2O_internal_security:</td>\n",
       "<td>False</td></tr>\n",
       "<tr><td>H2O_API_Extensions:</td>\n",
       "<td>Amazon S3, Algos, AutoML, Core V3, TargetEncoder, Core V4</td></tr>\n",
       "<tr><td>Python_version:</td>\n",
       "<td>3.8.5 final</td></tr></table></div>"
      ],
      "text/plain": [
       "--------------------------  ---------------------------------------------------------\n",
       "H2O_cluster_uptime:         19 mins 02 secs\n",
       "H2O_cluster_timezone:       Asia/Baku\n",
       "H2O_data_parsing_timezone:  UTC\n",
       "H2O_cluster_version:        3.32.1.1\n",
       "H2O_cluster_version_age:    13 days\n",
       "H2O_cluster_name:           H2O_from_python_eljan_c58wf7\n",
       "H2O_cluster_total_nodes:    1\n",
       "H2O_cluster_free_memory:    3.524 Gb\n",
       "H2O_cluster_total_cores:    8\n",
       "H2O_cluster_allowed_cores:  8\n",
       "H2O_cluster_status:         locked, healthy\n",
       "H2O_connection_url:         http://localhost:54321\n",
       "H2O_connection_proxy:       {\"http\": null, \"https\": null}\n",
       "H2O_internal_security:      False\n",
       "H2O_API_Extensions:         Amazon S3, Algos, AutoML, Core V3, TargetEncoder, Core V4\n",
       "Python_version:             3.8.5 final\n",
       "--------------------------  ---------------------------------------------------------"
      ]
     },
     "metadata": {},
     "output_type": "display_data"
    }
   ],
   "source": [
    "import h2o\n",
    "from h2o.estimators.gbm import H2OGradientBoostingEstimator\n",
    "from bayes_opt import BayesianOptimization\n",
    "h2o.init()\n",
    "h2o.remove_all()"
   ]
  },
  {
   "cell_type": "code",
   "execution_count": 112,
   "metadata": {},
   "outputs": [
    {
     "name": "stdout",
     "output_type": "stream",
     "text": [
      "Parse progress: |█████████████████████████████████████████████████████████| 100%\n"
     ]
    }
   ],
   "source": [
    "data = h2o.upload_file('nasa.csv')\n",
    "train_cols = [x for x in data.col_names if x not in ['Hazardous']]\n",
    "target = \"Hazardous\"\n",
    "train, test = data.split_frame(ratios=[0.7])"
   ]
  },
  {
   "cell_type": "code",
   "execution_count": 113,
   "metadata": {},
   "outputs": [],
   "source": [
    "def train_model(max_depth, \n",
    "                ntrees,\n",
    "                min_rows, \n",
    "                learn_rate, \n",
    "                sample_rate, \n",
    "                col_sample_rate):\n",
    "    params = {\n",
    "        'max_depth': int(max_depth),\n",
    "        'ntrees': int(ntrees),\n",
    "        'min_rows': int(min_rows),\n",
    "        'learn_rate':learn_rate,\n",
    "        'sample_rate':sample_rate,\n",
    "        'col_sample_rate':col_sample_rate\n",
    "    }\n",
    "    model = H2OGradientBoostingEstimator(nfolds=5,**params)\n",
    "    model.train(x=train_cols, y=target, training_frame=train)\n",
    "    return -model.rmse()"
   ]
  },
  {
   "cell_type": "code",
   "execution_count": 114,
   "metadata": {},
   "outputs": [],
   "source": [
    "bounds = {\n",
    "    'max_depth':(5,10),\n",
    "    'ntrees': (100,500),\n",
    "    'min_rows':(10,30),\n",
    "    'learn_rate':(0.001, 0.01),\n",
    "    'sample_rate':(0.5,0.8),\n",
    "    'col_sample_rate':(0.5,0.8)\n",
    "}"
   ]
  },
  {
   "cell_type": "code",
   "execution_count": 115,
   "metadata": {},
   "outputs": [
    {
     "name": "stdout",
     "output_type": "stream",
     "text": [
      "|   iter    |  target   | col_sa... | learn_... | max_depth | min_rows  |  ntrees   | sample... |\n",
      "-------------------------------------------------------------------------------------------------\n",
      "gbm Model Build progress: |███████████████████████████████████████████████| 100%\n",
      "|  1        | -0.1225   |  0.6251   |  0.007483 |  5.001    |  16.05    |  158.7    |  0.5277   |\n",
      "gbm Model Build progress: |███████████████████████████████████████████████| 100%\n",
      "|  2        | -0.1318   |  0.5559   |  0.00411  |  6.984    |  20.78    |  267.7    |  0.7056   |\n",
      "gbm Model Build progress: |███████████████████████████████████████████████| 100%\n",
      "|  3        | -0.05457  |  0.5613   |  0.008903 |  5.137    |  23.41    |  266.9    |  0.6676   |\n",
      "gbm Model Build progress: |███████████████████████████████████████████████| 100%\n",
      "|  4        | -0.2025   |  0.5421   |  0.002783 |  9.004    |  29.37    |  225.4    |  0.7077   |\n",
      "gbm Model Build progress: |███████████████████████████████████████████████| 100%\n",
      "|  5        | -0.09036  |  0.7629   |  0.009051 |  5.425    |  10.78    |  167.9    |  0.7634   |\n",
      "gbm Model Build progress: |███████████████████████████████████████████████| 100%\n",
      "|  6        | -0.07609  |  0.5295   |  0.00479  |  9.789    |  20.66    |  376.8    |  0.5947   |\n",
      "gbm Model Build progress: |███████████████████████████████████████████████| 100%\n",
      "|  7        | -0.02966  |  0.706    |  0.008512 |  5.091    |  25.0     |  495.5    |  0.7244   |\n",
      "gbm Model Build progress: |███████████████████████████████████████████████| 100%\n",
      "|  8        | -0.034    |  0.5841   |  0.008104 |  5.516    |  18.96    |  463.4    |  0.5881   |\n",
      "gbm Model Build progress: |███████████████████████████████████████████████| 100%\n",
      "|  9        | -0.2512   |  0.5863   |  0.00217  |  5.097    |  23.58    |  184.7    |  0.5797   |\n",
      "gbm Model Build progress: |███████████████████████████████████████████████| 100%\n",
      "|  10       | -0.2281   |  0.6475   |  0.00148  |  7.871    |  12.93    |  335.7    |  0.7099   |\n",
      "gbm Model Build progress: |███████████████████████████████████████████████| 100%\n",
      "|  11       | -0.3005   |  0.5781   |  0.001245 |  5.562    |  10.57    |  168.3    |  0.688    |\n",
      "gbm Model Build progress: |███████████████████████████████████████████████| 100%\n",
      "|  12       | -0.197    |  0.6793   |  0.003866 |  8.315    |  18.97    |  168.9    |  0.5909   |\n",
      "gbm Model Build progress: |███████████████████████████████████████████████| 100%\n",
      "|  13       | -0.1318   |  0.7692   |  0.005767 |  5.295    |  26.75    |  190.8    |  0.5555   |\n",
      "gbm Model Build progress: |█████████████████████████████████████████████████| 100%\n",
      "|  14       | -0.1773   |  0.6229   |  0.002101 |  8.65     |  27.36    |  365.2    |  0.6185   |\n",
      "gbm Model Build progress: |███████████████████████████████████████████████| 100%\n",
      "|  15       | -0.3047   |  0.775    |  0.001852 |  9.933    |  28.94    |  105.3    |  0.6362   |\n",
      "gbm Model Build progress: |███████████████████████████████████████████████| 100%\n",
      "|  16       | -0.05111  |  0.7082   |  0.006162 |  6.645    |  24.2     |  419.0    |  0.5091   |\n",
      "gbm Model Build progress: |█████████████████████████████████████████████████| 100%\n",
      "|  17       | -0.09173  |  0.5605   |  0.003643 |  5.796    |  15.61    |  424.6    |  0.7119   |\n",
      "gbm Model Build progress: |███████████████████████████████████████████████████| 100%\n",
      "|  18       | -0.03404  |  0.5014   |  0.008389 |  7.562    |  20.73    |  395.4    |  0.7836   |\n",
      "gbm Model Build progress: |███████████████████████████████████████████████| 100%\n",
      "|  19       | -0.03605  |  0.5102   |  0.007467 |  9.318    |  16.01    |  438.7    |  0.6266   |\n",
      "gbm Model Build progress: |███████████████████████████████████████████████| 100%\n",
      "|  20       | -0.1854   |  0.7694   |  0.001778 |  7.798    |  15.1     |  402.2    |  0.5713   |\n",
      "gbm Model Build progress: |███████████████████████████████████████████████| 100%\n",
      "|  21       | -0.07607  |  0.7967   |  0.007713 |  6.613    |  17.48    |  230.5    |  0.6742   |\n",
      "gbm Model Build progress: |███████████████████████████████████████████████| 100%\n",
      "|  22       | -0.1252   |  0.7275   |  0.002834 |  6.167    |  21.71    |  406.7    |  0.7897   |\n",
      "gbm Model Build progress: |███████████████████████████████████████████████| 100%\n",
      "|  23       | -0.03077  |  0.7622   |  0.00993  |  6.943    |  27.26    |  416.6    |  0.7175   |\n",
      "gbm Model Build progress: |█████████████████████████████████████████████████| 100%\n",
      "|  24       | -0.1019   |  0.5052   |  0.003982 |  7.329    |  15.74    |  354.7    |  0.6192   |\n",
      "gbm Model Build progress: |███████████████████████████████████████████████| 100%\n",
      "|  25       | -0.0796   |  0.668    |  0.006306 |  8.624    |  25.17    |  274.7    |  0.6981   |\n",
      "gbm Model Build progress: |███████████████████████████████████████████████| 100%\n",
      "|  26       | -0.09581  |  0.5229   |  0.007035 |  8.455    |  23.71    |  212.0    |  0.6851   |\n",
      "gbm Model Build progress: |███████████████████████████████████████████████| 100%\n",
      "|  27       | -0.3197   |  0.7495   |  0.001066 |  5.196    |  26.16    |  136.2    |  0.7269   |\n",
      "gbm Model Build progress: |███████████████████████████████████████████████| 100%\n",
      "|  28       | -0.05857  |  0.5278   |  0.009943 |  7.314    |  12.79    |  218.3    |  0.535    |\n",
      "gbm Model Build progress: |███████████████████████████████████████████████| 100%\n",
      "|  29       | -0.2602   |  0.5468   |  0.001597 |  9.569    |  11.96    |  224.7    |  0.6922   |\n",
      "gbm Model Build progress: |███████████████████████████████████████████████| 100%\n",
      "|  30       | -0.0407   |  0.6217   |  0.007598 |  9.283    |  29.82    |  441.8    |  0.5749   |\n",
      "gbm Model Build progress: |████████████████████████████████████████████████| 100%\n",
      "|  31       | -0.04259  |  0.5043   |  0.006766 |  5.083    |  27.76    |  475.6    |  0.5681   |\n",
      "gbm Model Build progress: |███████████████████████████████████████████████| 100%\n",
      "|  32       | -0.1139   |  0.516    |  0.005907 |  7.656    |  10.67    |  212.7    |  0.6523   |\n",
      "gbm Model Build progress: |███████████████████████████████████████████████| 100%\n",
      "|  33       | -0.03536  |  0.645    |  0.007843 |  9.055    |  25.62    |  450.4    |  0.7136   |\n",
      "gbm Model Build progress: |███████████████████████████████████████████████| 100%\n",
      "|  34       | -0.3052   |  0.6135   |  0.001745 |  7.536    |  18.49    |  111.6    |  0.5468   |\n",
      "gbm Model Build progress: |███████████████████████████████████████████████| 100%\n",
      "|  35       | -0.1777   |  0.7114   |  0.002204 |  8.991    |  22.72    |  346.9    |  0.66     |\n",
      "gbm Model Build progress: |███████████████████████████████████████████████| 100%\n",
      "|  36       | -0.02886  |  0.7461   |  0.008707 |  7.068    |  26.34    |  498.2    |  0.7092   |\n",
      "gbm Model Build progress: |███████████████████████████████████████████████| 100%\n",
      "|  37       | -0.0372   |  0.5032   |  0.007664 |  8.456    |  23.26    |  479.7    |  0.5465   |\n",
      "gbm Model Build progress: |███████████████████████████████████████████████| 100%\n",
      "|  38       | -0.1083   |  0.769    |  0.003658 |  9.44     |  13.13    |  360.6    |  0.5849   |\n",
      "gbm Model Build progress: |███████████████████████████████████████████████| 100%\n",
      "|  39       | -0.1663   |  0.5182   |  0.004935 |  7.19     |  24.74    |  170.8    |  0.6988   |\n",
      "gbm Model Build progress: |███████████████████████████████████████████████| 100%\n",
      "|  40       | -0.09907  |  0.7891   |  0.009612 |  5.605    |  14.98    |  148.9    |  0.7127   |\n",
      "gbm Model Build progress: |███████████████████████████████████████████████| 100%\n",
      "|  41       | -0.1096   |  0.566    |  0.006036 |  6.014    |  26.81    |  220.4    |  0.5335   |\n",
      "gbm Model Build progress: |███████████████████████████████████████████████| 100%\n",
      "|  42       | -0.1292   |  0.6077   |  0.005088 |  5.491    |  19.67    |  220.4    |  0.7715   |\n",
      "gbm Model Build progress: |███████████████████████████████████████████████| 100%\n",
      "|  43       | -0.2016   |  0.5975   |  0.001383 |  6.281    |  15.64    |  455.0    |  0.6138   |\n",
      "gbm Model Build progress: |███████████████████████████████████████████████| 100%\n",
      "|  44       | -0.2567   |  0.537    |  0.002473 |  7.839    |  12.93    |  150.8    |  0.7911   |\n",
      "gbm Model Build progress: |███████████████████████████████████████████████| 100%\n"
     ]
    },
    {
     "name": "stdout",
     "output_type": "stream",
     "text": [
      "|  45       | -0.02315  |  0.7671   |  0.009786 |  7.252    |  17.77    |  479.8    |  0.6746   |\n",
      "gbm Model Build progress: |███████████████████████████████████████████████| 100%\n",
      "|  46       | -0.1289   |  0.7969   |  0.002734 |  6.665    |  29.2     |  410.5    |  0.6017   |\n",
      "gbm Model Build progress: |███████████████████████████████████████████████| 100%\n",
      "|  47       | -0.1319   |  0.7969   |  0.002493 |  5.194    |  13.73    |  436.1    |  0.6557   |\n",
      "gbm Model Build progress: |████████████████████████████████████████████████| 100%\n",
      "|  48       | -0.151    |  0.7405   |  0.003056 |  7.965    |  23.95    |  308.1    |  0.6113   |\n",
      "gbm Model Build progress: |████████████████████████████████████████████████| 100%\n",
      "|  49       | -0.0578   |  0.556    |  0.00744  |  8.539    |  25.61    |  308.9    |  0.5814   |\n",
      "gbm Model Build progress: |███████████████████████████████████████████████| 100%\n",
      "|  50       | -0.08498  |  0.7979   |  0.003569 |  5.459    |  24.63    |  457.8    |  0.7682   |\n",
      "gbm Model Build progress: |███████████████████████████████████████████████| 100%\n",
      "|  51       | -0.07783  |  0.6456   |  0.006524 |  7.532    |  17.97    |  266.9    |  0.7436   |\n",
      "gbm Model Build progress: |███████████████████████████████████████████████| 100%\n",
      "|  52       | -0.03614  |  0.7727   |  0.006186 |  5.177    |  10.81    |  473.0    |  0.7863   |\n",
      "gbm Model Build progress: |███████████████████████████████████████████████| 100%\n",
      "|  53       | -0.1684   |  0.6278   |  0.005293 |  8.29     |  27.25    |  155.8    |  0.7683   |\n",
      "gbm Model Build progress: |███████████████████████████████████████████████| 100%\n",
      "|  54       | -0.05075  |  0.6159   |  0.009138 |  8.961    |  23.93    |  275.4    |  0.636    |\n",
      "gbm Model Build progress: |█████████████████████████████████████████████████| 100%\n",
      "|  55       | -0.05048  |  0.7799   |  0.007992 |  7.001    |  10.3     |  301.6    |  0.5747   |\n",
      "gbm Model Build progress: |███████████████████████████████████████████████| 100%\n",
      "|  56       | -0.2247   |  0.6164   |  0.00108  |  8.763    |  14.27    |  474.5    |  0.5855   |\n",
      "gbm Model Build progress: |██████████████████████████████████████████████████████| 100%\n",
      "|  57       | -0.03643  |  0.5241   |  0.008692 |  6.17     |  15.4     |  367.1    |  0.644    |\n",
      "gbm Model Build progress: |████████████████████████████████████████████████| 100%\n",
      "|  58       | -0.08896  |  0.5526   |  0.00521  |  7.382    |  10.45    |  300.2    |  0.5665   |\n",
      "gbm Model Build progress: |███████████████████████████████████████████████| 100%\n",
      "|  59       | -0.07335  |  0.533    |  0.004011 |  8.73     |  28.87    |  465.0    |  0.7226   |\n",
      "gbm Model Build progress: |██████████████████████████████████████████████████| 100%\n",
      "|  60       | -0.09336  |  0.5102   |  0.003745 |  5.272    |  21.95    |  413.7    |  0.5798   |\n",
      "=================================================================================================\n"
     ]
    }
   ],
   "source": [
    "optimizer = BayesianOptimization(\n",
    "    f=train_model,\n",
    "    pbounds=bounds,\n",
    "    random_state=1,\n",
    ")\n",
    "optimizer.maximize(init_points=10, n_iter=50)"
   ]
  },
  {
   "cell_type": "code",
   "execution_count": 116,
   "metadata": {},
   "outputs": [
    {
     "data": {
      "text/plain": [
       "{'target': -0.02315301409612727,\n",
       " 'params': {'col_sample_rate': 0.7671344314874786,\n",
       "  'learn_rate': 0.009785959643160268,\n",
       "  'max_depth': 7.251777220993257,\n",
       "  'min_rows': 17.765367664771894,\n",
       "  'ntrees': 479.7642308936297,\n",
       "  'sample_rate': 0.6746206311896739}}"
      ]
     },
     "execution_count": 116,
     "metadata": {},
     "output_type": "execute_result"
    }
   ],
   "source": [
    "optimizer.max"
   ]
  },
  {
   "cell_type": "code",
   "execution_count": null,
   "metadata": {},
   "outputs": [],
   "source": []
  },
  {
   "cell_type": "markdown",
   "metadata": {},
   "source": [
    "# RandomizedSearchCV"
   ]
  },
  {
   "cell_type": "code",
   "execution_count": 2,
   "metadata": {},
   "outputs": [],
   "source": [
    "# Importing the Libraries\n",
    "import numpy as np\n",
    "import pandas as pd\n",
    "import matplotlib.pyplot as plt\n",
    "import seaborn as sns\n",
    "import warnings\n",
    "warnings.filterwarnings('ignore')"
   ]
  },
  {
   "cell_type": "code",
   "execution_count": 3,
   "metadata": {},
   "outputs": [
    {
     "data": {
      "text/html": [
       "<div>\n",
       "<style scoped>\n",
       "    .dataframe tbody tr th:only-of-type {\n",
       "        vertical-align: middle;\n",
       "    }\n",
       "\n",
       "    .dataframe tbody tr th {\n",
       "        vertical-align: top;\n",
       "    }\n",
       "\n",
       "    .dataframe thead th {\n",
       "        text-align: right;\n",
       "    }\n",
       "</style>\n",
       "<table border=\"1\" class=\"dataframe\">\n",
       "  <thead>\n",
       "    <tr style=\"text-align: right;\">\n",
       "      <th></th>\n",
       "      <th>Neo Reference ID</th>\n",
       "      <th>Name</th>\n",
       "      <th>Absolute Magnitude</th>\n",
       "      <th>Est Dia in KM(min)</th>\n",
       "      <th>Est Dia in KM(max)</th>\n",
       "      <th>Est Dia in M(min)</th>\n",
       "      <th>Est Dia in M(max)</th>\n",
       "      <th>Est Dia in Miles(min)</th>\n",
       "      <th>Est Dia in Miles(max)</th>\n",
       "      <th>Est Dia in Feet(min)</th>\n",
       "      <th>...</th>\n",
       "      <th>Asc Node Longitude</th>\n",
       "      <th>Orbital Period</th>\n",
       "      <th>Perihelion Distance</th>\n",
       "      <th>Perihelion Arg</th>\n",
       "      <th>Aphelion Dist</th>\n",
       "      <th>Perihelion Time</th>\n",
       "      <th>Mean Anomaly</th>\n",
       "      <th>Mean Motion</th>\n",
       "      <th>Equinox</th>\n",
       "      <th>Hazardous</th>\n",
       "    </tr>\n",
       "  </thead>\n",
       "  <tbody>\n",
       "    <tr>\n",
       "      <th>0</th>\n",
       "      <td>3703080</td>\n",
       "      <td>3703080</td>\n",
       "      <td>21.6</td>\n",
       "      <td>0.127220</td>\n",
       "      <td>0.284472</td>\n",
       "      <td>127.219879</td>\n",
       "      <td>284.472297</td>\n",
       "      <td>0.079051</td>\n",
       "      <td>0.176763</td>\n",
       "      <td>417.388066</td>\n",
       "      <td>...</td>\n",
       "      <td>314.373913</td>\n",
       "      <td>609.599786</td>\n",
       "      <td>0.808259</td>\n",
       "      <td>57.257470</td>\n",
       "      <td>2.005764</td>\n",
       "      <td>2.458162e+06</td>\n",
       "      <td>264.837533</td>\n",
       "      <td>0.590551</td>\n",
       "      <td>J2000</td>\n",
       "      <td>True</td>\n",
       "    </tr>\n",
       "    <tr>\n",
       "      <th>1</th>\n",
       "      <td>3723955</td>\n",
       "      <td>3723955</td>\n",
       "      <td>21.3</td>\n",
       "      <td>0.146068</td>\n",
       "      <td>0.326618</td>\n",
       "      <td>146.067964</td>\n",
       "      <td>326.617897</td>\n",
       "      <td>0.090762</td>\n",
       "      <td>0.202951</td>\n",
       "      <td>479.225620</td>\n",
       "      <td>...</td>\n",
       "      <td>136.717242</td>\n",
       "      <td>425.869294</td>\n",
       "      <td>0.718200</td>\n",
       "      <td>313.091975</td>\n",
       "      <td>1.497352</td>\n",
       "      <td>2.457795e+06</td>\n",
       "      <td>173.741112</td>\n",
       "      <td>0.845330</td>\n",
       "      <td>J2000</td>\n",
       "      <td>False</td>\n",
       "    </tr>\n",
       "    <tr>\n",
       "      <th>2</th>\n",
       "      <td>2446862</td>\n",
       "      <td>2446862</td>\n",
       "      <td>20.3</td>\n",
       "      <td>0.231502</td>\n",
       "      <td>0.517654</td>\n",
       "      <td>231.502122</td>\n",
       "      <td>517.654482</td>\n",
       "      <td>0.143849</td>\n",
       "      <td>0.321655</td>\n",
       "      <td>759.521423</td>\n",
       "      <td>...</td>\n",
       "      <td>259.475979</td>\n",
       "      <td>643.580228</td>\n",
       "      <td>0.950791</td>\n",
       "      <td>248.415038</td>\n",
       "      <td>1.966857</td>\n",
       "      <td>2.458120e+06</td>\n",
       "      <td>292.893654</td>\n",
       "      <td>0.559371</td>\n",
       "      <td>J2000</td>\n",
       "      <td>True</td>\n",
       "    </tr>\n",
       "    <tr>\n",
       "      <th>3</th>\n",
       "      <td>3092506</td>\n",
       "      <td>3092506</td>\n",
       "      <td>27.4</td>\n",
       "      <td>0.008801</td>\n",
       "      <td>0.019681</td>\n",
       "      <td>8.801465</td>\n",
       "      <td>19.680675</td>\n",
       "      <td>0.005469</td>\n",
       "      <td>0.012229</td>\n",
       "      <td>28.876199</td>\n",
       "      <td>...</td>\n",
       "      <td>57.173266</td>\n",
       "      <td>514.082140</td>\n",
       "      <td>0.983902</td>\n",
       "      <td>18.707701</td>\n",
       "      <td>1.527904</td>\n",
       "      <td>2.457902e+06</td>\n",
       "      <td>68.741007</td>\n",
       "      <td>0.700277</td>\n",
       "      <td>J2000</td>\n",
       "      <td>False</td>\n",
       "    </tr>\n",
       "    <tr>\n",
       "      <th>4</th>\n",
       "      <td>3514799</td>\n",
       "      <td>3514799</td>\n",
       "      <td>21.6</td>\n",
       "      <td>0.127220</td>\n",
       "      <td>0.284472</td>\n",
       "      <td>127.219879</td>\n",
       "      <td>284.472297</td>\n",
       "      <td>0.079051</td>\n",
       "      <td>0.176763</td>\n",
       "      <td>417.388066</td>\n",
       "      <td>...</td>\n",
       "      <td>84.629307</td>\n",
       "      <td>495.597821</td>\n",
       "      <td>0.967687</td>\n",
       "      <td>158.263596</td>\n",
       "      <td>1.483543</td>\n",
       "      <td>2.457814e+06</td>\n",
       "      <td>135.142133</td>\n",
       "      <td>0.726395</td>\n",
       "      <td>J2000</td>\n",
       "      <td>True</td>\n",
       "    </tr>\n",
       "  </tbody>\n",
       "</table>\n",
       "<p>5 rows × 40 columns</p>\n",
       "</div>"
      ],
      "text/plain": [
       "   Neo Reference ID     Name  Absolute Magnitude  Est Dia in KM(min)  \\\n",
       "0           3703080  3703080                21.6            0.127220   \n",
       "1           3723955  3723955                21.3            0.146068   \n",
       "2           2446862  2446862                20.3            0.231502   \n",
       "3           3092506  3092506                27.4            0.008801   \n",
       "4           3514799  3514799                21.6            0.127220   \n",
       "\n",
       "   Est Dia in KM(max)  Est Dia in M(min)  Est Dia in M(max)  \\\n",
       "0            0.284472         127.219879         284.472297   \n",
       "1            0.326618         146.067964         326.617897   \n",
       "2            0.517654         231.502122         517.654482   \n",
       "3            0.019681           8.801465          19.680675   \n",
       "4            0.284472         127.219879         284.472297   \n",
       "\n",
       "   Est Dia in Miles(min)  Est Dia in Miles(max)  Est Dia in Feet(min)  ...  \\\n",
       "0               0.079051               0.176763            417.388066  ...   \n",
       "1               0.090762               0.202951            479.225620  ...   \n",
       "2               0.143849               0.321655            759.521423  ...   \n",
       "3               0.005469               0.012229             28.876199  ...   \n",
       "4               0.079051               0.176763            417.388066  ...   \n",
       "\n",
       "   Asc Node Longitude Orbital Period  Perihelion Distance  Perihelion Arg  \\\n",
       "0          314.373913     609.599786             0.808259       57.257470   \n",
       "1          136.717242     425.869294             0.718200      313.091975   \n",
       "2          259.475979     643.580228             0.950791      248.415038   \n",
       "3           57.173266     514.082140             0.983902       18.707701   \n",
       "4           84.629307     495.597821             0.967687      158.263596   \n",
       "\n",
       "   Aphelion Dist  Perihelion Time  Mean Anomaly  Mean Motion  Equinox  \\\n",
       "0       2.005764     2.458162e+06    264.837533     0.590551    J2000   \n",
       "1       1.497352     2.457795e+06    173.741112     0.845330    J2000   \n",
       "2       1.966857     2.458120e+06    292.893654     0.559371    J2000   \n",
       "3       1.527904     2.457902e+06     68.741007     0.700277    J2000   \n",
       "4       1.483543     2.457814e+06    135.142133     0.726395    J2000   \n",
       "\n",
       "   Hazardous  \n",
       "0       True  \n",
       "1      False  \n",
       "2       True  \n",
       "3      False  \n",
       "4       True  \n",
       "\n",
       "[5 rows x 40 columns]"
      ]
     },
     "execution_count": 3,
     "metadata": {},
     "output_type": "execute_result"
    }
   ],
   "source": [
    "# Importing the dataset\n",
    "data=pd.read_csv('nasa.csv')\n",
    "# Dataset First 5 records\n",
    "data.head()"
   ]
  },
  {
   "cell_type": "code",
   "execution_count": 15,
   "metadata": {},
   "outputs": [],
   "source": [
    "# XGBOOST model independent(input) & dependent(output) features\n",
    "X=data.drop('Hazardous',axis=1).values\n",
    "y=data['Hazardous'].values"
   ]
  },
  {
   "cell_type": "code",
   "execution_count": 16,
   "metadata": {},
   "outputs": [],
   "source": [
    "# Data are to be used for training and for validation purposes, thus the necessary libraries and functions are imported\n",
    "from sklearn.model_selection import train_test_split\n",
    "# Data are split for training and testing,test_size =0.25 which means 25% of the dataset will be used for validation purposes\n",
    "# to assess the model performance\n",
    "X_train, X_test, y_train, y_test = train_test_split(X, y,test_size=0.25, random_state=0)\n"
   ]
  },
  {
   "cell_type": "code",
   "execution_count": 17,
   "metadata": {
    "scrolled": false
   },
   "outputs": [
    {
     "name": "stdout",
     "output_type": "stream",
     "text": [
      "0.16\n",
      "0.16\n"
     ]
    }
   ],
   "source": [
    "# As it can be observed, the percentage of 'Hazardous ==True' for the y_train samples is the same with the y_test samples,\n",
    "# (i.e.for both train and test sets)\n",
    "print(round(len(y_train[y_train==True])/len(y_train),2))\n",
    "print(round(len(y_test[y_test==True])/len(y_test),2))"
   ]
  },
  {
   "cell_type": "code",
   "execution_count": 18,
   "metadata": {},
   "outputs": [],
   "source": [
    "# Optimizing the hyperparameters by selecting different values for each hyperparameter. Then by applying Random Search, the \n",
    "# model will try to determine the optimal values for all parameters\n",
    "opt_parameters={\n",
    " \"learning_rate\"    : [0.001,0.005,0.01,0.05,0.10, 0.15, 0.20,0.25,0.3,0.35],#Learning_Rate:the step size at every iteration\n",
    " \"max_depth\"        : [ 2,3,4,5,6,7,8,9,10,11,12,13,14],#max_depth: max tree depth (very high values can lead to overfitting)\n",
    " \"min_child_weight\" : [ 1,2,3,4,5,6],# min_child_weight:minimum samples number in each node\n",
    " \"gamma\"            : [ 0,0.05, 0.1,0.15, 0.2,0.25,0.3,0.35,0.4,0.45,0.5],#gamma:higher gamma value --> higher regularization\n",
    "'colsample_bylevel' : [ 0.3,0.4, 0.5,0.6,0.7],#colsample_bytree:columns subsample ratio for each level\n",
    "'colsample_bynode'  : [ 0.3,0.4, 0.5,0.6,0.7],#colsample_bynode:columns subsample ratio for each split\n",
    "'colsample_bytree'  : [ 0.3,0.4, 0.5,0.6,0.7]}#colsample_bytree:feature percentage for building each tree"
   ]
  },
  {
   "cell_type": "code",
   "execution_count": 19,
   "metadata": {},
   "outputs": [],
   "source": [
    "## Hyperparameter optimization using RandomizedSearchCV\n",
    "from sklearn.model_selection import RandomizedSearchCV"
   ]
  },
  {
   "cell_type": "code",
   "execution_count": 20,
   "metadata": {},
   "outputs": [],
   "source": [
    "# Importing xgboost classifier fit the model to the training set\n",
    "from xgboost import XGBClassifier\n",
    "xgboost_clf=XGBClassifier()"
   ]
  },
  {
   "cell_type": "code",
   "execution_count": 21,
   "metadata": {},
   "outputs": [],
   "source": [
    "# Use of RandomizedSearchCV function that takes as inputs the classifier, the parameters that are to be optimized, the\n",
    "#  number of iterations, the score metric and the cross validation number\n",
    "rand_search=RandomizedSearchCV(xgboost_clf,param_distributions=opt_parameters,n_iter=7,scoring='roc_auc',\n",
    "                                 cv=10,verbose=3)"
   ]
  },
  {
   "cell_type": "code",
   "execution_count": 22,
   "metadata": {},
   "outputs": [
    {
     "name": "stdout",
     "output_type": "stream",
     "text": [
      "Fitting 10 folds for each of 7 candidates, totalling 70 fits\n",
      "[CV] min_child_weight=6, max_depth=14, learning_rate=0.1, gamma=0.25, colsample_bytree=0.6, colsample_bynode=0.5, colsample_bylevel=0.5 \n",
      "[16:21:38] WARNING: C:/Users/Administrator/workspace/xgboost-win64_release_1.3.0/src/learner.cc:1061: Starting in XGBoost 1.3.0, the default evaluation metric used with the objective 'binary:logistic' was changed from 'error' to 'logloss'. Explicitly set eval_metric if you'd like to restore the old behavior.\n"
     ]
    },
    {
     "name": "stderr",
     "output_type": "stream",
     "text": [
      "[Parallel(n_jobs=1)]: Using backend SequentialBackend with 1 concurrent workers.\n"
     ]
    },
    {
     "name": "stdout",
     "output_type": "stream",
     "text": [
      "[CV]  min_child_weight=6, max_depth=14, learning_rate=0.1, gamma=0.25, colsample_bytree=0.6, colsample_bynode=0.5, colsample_bylevel=0.5, score=1.000, total=   0.3s\n",
      "[CV] min_child_weight=6, max_depth=14, learning_rate=0.1, gamma=0.25, colsample_bytree=0.6, colsample_bynode=0.5, colsample_bylevel=0.5 \n",
      "[16:21:39] WARNING: C:/Users/Administrator/workspace/xgboost-win64_release_1.3.0/src/learner.cc:1061: Starting in XGBoost 1.3.0, the default evaluation metric used with the objective 'binary:logistic' was changed from 'error' to 'logloss'. Explicitly set eval_metric if you'd like to restore the old behavior.\n"
     ]
    },
    {
     "name": "stderr",
     "output_type": "stream",
     "text": [
      "[Parallel(n_jobs=1)]: Done   1 out of   1 | elapsed:    0.2s remaining:    0.0s\n"
     ]
    },
    {
     "name": "stdout",
     "output_type": "stream",
     "text": [
      "[CV]  min_child_weight=6, max_depth=14, learning_rate=0.1, gamma=0.25, colsample_bytree=0.6, colsample_bynode=0.5, colsample_bylevel=0.5, score=1.000, total=   0.2s\n",
      "[CV] min_child_weight=6, max_depth=14, learning_rate=0.1, gamma=0.25, colsample_bytree=0.6, colsample_bynode=0.5, colsample_bylevel=0.5 \n",
      "[16:21:39] WARNING: C:/Users/Administrator/workspace/xgboost-win64_release_1.3.0/src/learner.cc:1061: Starting in XGBoost 1.3.0, the default evaluation metric used with the objective 'binary:logistic' was changed from 'error' to 'logloss'. Explicitly set eval_metric if you'd like to restore the old behavior.\n"
     ]
    },
    {
     "name": "stderr",
     "output_type": "stream",
     "text": [
      "[Parallel(n_jobs=1)]: Done   2 out of   2 | elapsed:    0.4s remaining:    0.0s\n"
     ]
    },
    {
     "name": "stdout",
     "output_type": "stream",
     "text": [
      "[CV]  min_child_weight=6, max_depth=14, learning_rate=0.1, gamma=0.25, colsample_bytree=0.6, colsample_bynode=0.5, colsample_bylevel=0.5, score=1.000, total=   0.2s\n",
      "[CV] min_child_weight=6, max_depth=14, learning_rate=0.1, gamma=0.25, colsample_bytree=0.6, colsample_bynode=0.5, colsample_bylevel=0.5 \n",
      "[16:21:39] WARNING: C:/Users/Administrator/workspace/xgboost-win64_release_1.3.0/src/learner.cc:1061: Starting in XGBoost 1.3.0, the default evaluation metric used with the objective 'binary:logistic' was changed from 'error' to 'logloss'. Explicitly set eval_metric if you'd like to restore the old behavior.\n",
      "[CV]  min_child_weight=6, max_depth=14, learning_rate=0.1, gamma=0.25, colsample_bytree=0.6, colsample_bynode=0.5, colsample_bylevel=0.5, score=1.000, total=   0.2s\n",
      "[CV] min_child_weight=6, max_depth=14, learning_rate=0.1, gamma=0.25, colsample_bytree=0.6, colsample_bynode=0.5, colsample_bylevel=0.5 \n",
      "[16:21:39] WARNING: C:/Users/Administrator/workspace/xgboost-win64_release_1.3.0/src/learner.cc:1061: Starting in XGBoost 1.3.0, the default evaluation metric used with the objective 'binary:logistic' was changed from 'error' to 'logloss'. Explicitly set eval_metric if you'd like to restore the old behavior.\n",
      "[CV]  min_child_weight=6, max_depth=14, learning_rate=0.1, gamma=0.25, colsample_bytree=0.6, colsample_bynode=0.5, colsample_bylevel=0.5, score=1.000, total=   0.2s\n",
      "[CV] min_child_weight=6, max_depth=14, learning_rate=0.1, gamma=0.25, colsample_bytree=0.6, colsample_bynode=0.5, colsample_bylevel=0.5 \n",
      "[16:21:40] WARNING: C:/Users/Administrator/workspace/xgboost-win64_release_1.3.0/src/learner.cc:1061: Starting in XGBoost 1.3.0, the default evaluation metric used with the objective 'binary:logistic' was changed from 'error' to 'logloss'. Explicitly set eval_metric if you'd like to restore the old behavior.\n",
      "[CV]  min_child_weight=6, max_depth=14, learning_rate=0.1, gamma=0.25, colsample_bytree=0.6, colsample_bynode=0.5, colsample_bylevel=0.5, score=1.000, total=   0.2s\n",
      "[CV] min_child_weight=6, max_depth=14, learning_rate=0.1, gamma=0.25, colsample_bytree=0.6, colsample_bynode=0.5, colsample_bylevel=0.5 \n",
      "[16:21:40] WARNING: C:/Users/Administrator/workspace/xgboost-win64_release_1.3.0/src/learner.cc:1061: Starting in XGBoost 1.3.0, the default evaluation metric used with the objective 'binary:logistic' was changed from 'error' to 'logloss'. Explicitly set eval_metric if you'd like to restore the old behavior.\n",
      "[CV]  min_child_weight=6, max_depth=14, learning_rate=0.1, gamma=0.25, colsample_bytree=0.6, colsample_bynode=0.5, colsample_bylevel=0.5, score=1.000, total=   0.2s\n",
      "[CV] min_child_weight=6, max_depth=14, learning_rate=0.1, gamma=0.25, colsample_bytree=0.6, colsample_bynode=0.5, colsample_bylevel=0.5 \n",
      "[16:21:40] WARNING: C:/Users/Administrator/workspace/xgboost-win64_release_1.3.0/src/learner.cc:1061: Starting in XGBoost 1.3.0, the default evaluation metric used with the objective 'binary:logistic' was changed from 'error' to 'logloss'. Explicitly set eval_metric if you'd like to restore the old behavior.\n",
      "[CV]  min_child_weight=6, max_depth=14, learning_rate=0.1, gamma=0.25, colsample_bytree=0.6, colsample_bynode=0.5, colsample_bylevel=0.5, score=1.000, total=   0.2s\n",
      "[CV] min_child_weight=6, max_depth=14, learning_rate=0.1, gamma=0.25, colsample_bytree=0.6, colsample_bynode=0.5, colsample_bylevel=0.5 \n",
      "[16:21:40] WARNING: C:/Users/Administrator/workspace/xgboost-win64_release_1.3.0/src/learner.cc:1061: Starting in XGBoost 1.3.0, the default evaluation metric used with the objective 'binary:logistic' was changed from 'error' to 'logloss'. Explicitly set eval_metric if you'd like to restore the old behavior.\n",
      "[CV]  min_child_weight=6, max_depth=14, learning_rate=0.1, gamma=0.25, colsample_bytree=0.6, colsample_bynode=0.5, colsample_bylevel=0.5, score=1.000, total=   0.2s\n",
      "[CV] min_child_weight=6, max_depth=14, learning_rate=0.1, gamma=0.25, colsample_bytree=0.6, colsample_bynode=0.5, colsample_bylevel=0.5 \n",
      "[16:21:40] WARNING: C:/Users/Administrator/workspace/xgboost-win64_release_1.3.0/src/learner.cc:1061: Starting in XGBoost 1.3.0, the default evaluation metric used with the objective 'binary:logistic' was changed from 'error' to 'logloss'. Explicitly set eval_metric if you'd like to restore the old behavior.\n",
      "[CV]  min_child_weight=6, max_depth=14, learning_rate=0.1, gamma=0.25, colsample_bytree=0.6, colsample_bynode=0.5, colsample_bylevel=0.5, score=1.000, total=   0.2s\n",
      "[CV] min_child_weight=4, max_depth=10, learning_rate=0.005, gamma=0.25, colsample_bytree=0.5, colsample_bynode=0.5, colsample_bylevel=0.4 \n",
      "[16:21:41] WARNING: C:/Users/Administrator/workspace/xgboost-win64_release_1.3.0/src/learner.cc:1061: Starting in XGBoost 1.3.0, the default evaluation metric used with the objective 'binary:logistic' was changed from 'error' to 'logloss'. Explicitly set eval_metric if you'd like to restore the old behavior.\n",
      "[CV]  min_child_weight=4, max_depth=10, learning_rate=0.005, gamma=0.25, colsample_bytree=0.5, colsample_bynode=0.5, colsample_bylevel=0.4, score=0.998, total=   0.4s\n",
      "[CV] min_child_weight=4, max_depth=10, learning_rate=0.005, gamma=0.25, colsample_bytree=0.5, colsample_bynode=0.5, colsample_bylevel=0.4 \n",
      "[16:21:41] WARNING: C:/Users/Administrator/workspace/xgboost-win64_release_1.3.0/src/learner.cc:1061: Starting in XGBoost 1.3.0, the default evaluation metric used with the objective 'binary:logistic' was changed from 'error' to 'logloss'. Explicitly set eval_metric if you'd like to restore the old behavior.\n",
      "[CV]  min_child_weight=4, max_depth=10, learning_rate=0.005, gamma=0.25, colsample_bytree=0.5, colsample_bynode=0.5, colsample_bylevel=0.4, score=0.994, total=   0.4s\n",
      "[CV] min_child_weight=4, max_depth=10, learning_rate=0.005, gamma=0.25, colsample_bytree=0.5, colsample_bynode=0.5, colsample_bylevel=0.4 \n",
      "[16:21:41] WARNING: C:/Users/Administrator/workspace/xgboost-win64_release_1.3.0/src/learner.cc:1061: Starting in XGBoost 1.3.0, the default evaluation metric used with the objective 'binary:logistic' was changed from 'error' to 'logloss'. Explicitly set eval_metric if you'd like to restore the old behavior.\n",
      "[CV]  min_child_weight=4, max_depth=10, learning_rate=0.005, gamma=0.25, colsample_bytree=0.5, colsample_bynode=0.5, colsample_bylevel=0.4, score=0.992, total=   0.4s\n",
      "[CV] min_child_weight=4, max_depth=10, learning_rate=0.005, gamma=0.25, colsample_bytree=0.5, colsample_bynode=0.5, colsample_bylevel=0.4 \n",
      "[16:21:42] WARNING: C:/Users/Administrator/workspace/xgboost-win64_release_1.3.0/src/learner.cc:1061: Starting in XGBoost 1.3.0, the default evaluation metric used with the objective 'binary:logistic' was changed from 'error' to 'logloss'. Explicitly set eval_metric if you'd like to restore the old behavior.\n",
      "[CV]  min_child_weight=4, max_depth=10, learning_rate=0.005, gamma=0.25, colsample_bytree=0.5, colsample_bynode=0.5, colsample_bylevel=0.4, score=0.987, total=   0.4s\n",
      "[CV] min_child_weight=4, max_depth=10, learning_rate=0.005, gamma=0.25, colsample_bytree=0.5, colsample_bynode=0.5, colsample_bylevel=0.4 \n",
      "[16:21:42] WARNING: C:/Users/Administrator/workspace/xgboost-win64_release_1.3.0/src/learner.cc:1061: Starting in XGBoost 1.3.0, the default evaluation metric used with the objective 'binary:logistic' was changed from 'error' to 'logloss'. Explicitly set eval_metric if you'd like to restore the old behavior.\n",
      "[CV]  min_child_weight=4, max_depth=10, learning_rate=0.005, gamma=0.25, colsample_bytree=0.5, colsample_bynode=0.5, colsample_bylevel=0.4, score=0.999, total=   0.4s\n",
      "[CV] min_child_weight=4, max_depth=10, learning_rate=0.005, gamma=0.25, colsample_bytree=0.5, colsample_bynode=0.5, colsample_bylevel=0.4 \n",
      "[16:21:43] WARNING: C:/Users/Administrator/workspace/xgboost-win64_release_1.3.0/src/learner.cc:1061: Starting in XGBoost 1.3.0, the default evaluation metric used with the objective 'binary:logistic' was changed from 'error' to 'logloss'. Explicitly set eval_metric if you'd like to restore the old behavior.\n",
      "[CV]  min_child_weight=4, max_depth=10, learning_rate=0.005, gamma=0.25, colsample_bytree=0.5, colsample_bynode=0.5, colsample_bylevel=0.4, score=0.996, total=   0.4s\n",
      "[CV] min_child_weight=4, max_depth=10, learning_rate=0.005, gamma=0.25, colsample_bytree=0.5, colsample_bynode=0.5, colsample_bylevel=0.4 \n",
      "[16:21:43] WARNING: C:/Users/Administrator/workspace/xgboost-win64_release_1.3.0/src/learner.cc:1061: Starting in XGBoost 1.3.0, the default evaluation metric used with the objective 'binary:logistic' was changed from 'error' to 'logloss'. Explicitly set eval_metric if you'd like to restore the old behavior.\n"
     ]
    },
    {
     "name": "stdout",
     "output_type": "stream",
     "text": [
      "[CV]  min_child_weight=4, max_depth=10, learning_rate=0.005, gamma=0.25, colsample_bytree=0.5, colsample_bynode=0.5, colsample_bylevel=0.4, score=1.000, total=   0.4s\n",
      "[CV] min_child_weight=4, max_depth=10, learning_rate=0.005, gamma=0.25, colsample_bytree=0.5, colsample_bynode=0.5, colsample_bylevel=0.4 \n",
      "[16:21:43] WARNING: C:/Users/Administrator/workspace/xgboost-win64_release_1.3.0/src/learner.cc:1061: Starting in XGBoost 1.3.0, the default evaluation metric used with the objective 'binary:logistic' was changed from 'error' to 'logloss'. Explicitly set eval_metric if you'd like to restore the old behavior.\n",
      "[CV]  min_child_weight=4, max_depth=10, learning_rate=0.005, gamma=0.25, colsample_bytree=0.5, colsample_bynode=0.5, colsample_bylevel=0.4, score=0.996, total=   0.4s\n",
      "[CV] min_child_weight=4, max_depth=10, learning_rate=0.005, gamma=0.25, colsample_bytree=0.5, colsample_bynode=0.5, colsample_bylevel=0.4 \n",
      "[16:21:44] WARNING: C:/Users/Administrator/workspace/xgboost-win64_release_1.3.0/src/learner.cc:1061: Starting in XGBoost 1.3.0, the default evaluation metric used with the objective 'binary:logistic' was changed from 'error' to 'logloss'. Explicitly set eval_metric if you'd like to restore the old behavior.\n",
      "[CV]  min_child_weight=4, max_depth=10, learning_rate=0.005, gamma=0.25, colsample_bytree=0.5, colsample_bynode=0.5, colsample_bylevel=0.4, score=0.994, total=   0.4s\n",
      "[CV] min_child_weight=4, max_depth=10, learning_rate=0.005, gamma=0.25, colsample_bytree=0.5, colsample_bynode=0.5, colsample_bylevel=0.4 \n",
      "[16:21:44] WARNING: C:/Users/Administrator/workspace/xgboost-win64_release_1.3.0/src/learner.cc:1061: Starting in XGBoost 1.3.0, the default evaluation metric used with the objective 'binary:logistic' was changed from 'error' to 'logloss'. Explicitly set eval_metric if you'd like to restore the old behavior.\n",
      "[CV]  min_child_weight=4, max_depth=10, learning_rate=0.005, gamma=0.25, colsample_bytree=0.5, colsample_bynode=0.5, colsample_bylevel=0.4, score=0.998, total=   0.4s\n",
      "[CV] min_child_weight=2, max_depth=2, learning_rate=0.15, gamma=0.35, colsample_bytree=0.6, colsample_bynode=0.7, colsample_bylevel=0.3 \n",
      "[16:21:44] WARNING: C:/Users/Administrator/workspace/xgboost-win64_release_1.3.0/src/learner.cc:1061: Starting in XGBoost 1.3.0, the default evaluation metric used with the objective 'binary:logistic' was changed from 'error' to 'logloss'. Explicitly set eval_metric if you'd like to restore the old behavior.\n",
      "[CV]  min_child_weight=2, max_depth=2, learning_rate=0.15, gamma=0.35, colsample_bytree=0.6, colsample_bynode=0.7, colsample_bylevel=0.3, score=0.999, total=   0.2s\n",
      "[CV] min_child_weight=2, max_depth=2, learning_rate=0.15, gamma=0.35, colsample_bytree=0.6, colsample_bynode=0.7, colsample_bylevel=0.3 \n",
      "[16:21:45] WARNING: C:/Users/Administrator/workspace/xgboost-win64_release_1.3.0/src/learner.cc:1061: Starting in XGBoost 1.3.0, the default evaluation metric used with the objective 'binary:logistic' was changed from 'error' to 'logloss'. Explicitly set eval_metric if you'd like to restore the old behavior.\n",
      "[CV]  min_child_weight=2, max_depth=2, learning_rate=0.15, gamma=0.35, colsample_bytree=0.6, colsample_bynode=0.7, colsample_bylevel=0.3, score=1.000, total=   0.1s\n",
      "[CV] min_child_weight=2, max_depth=2, learning_rate=0.15, gamma=0.35, colsample_bytree=0.6, colsample_bynode=0.7, colsample_bylevel=0.3 \n",
      "[16:21:45] WARNING: C:/Users/Administrator/workspace/xgboost-win64_release_1.3.0/src/learner.cc:1061: Starting in XGBoost 1.3.0, the default evaluation metric used with the objective 'binary:logistic' was changed from 'error' to 'logloss'. Explicitly set eval_metric if you'd like to restore the old behavior.\n",
      "[CV]  min_child_weight=2, max_depth=2, learning_rate=0.15, gamma=0.35, colsample_bytree=0.6, colsample_bynode=0.7, colsample_bylevel=0.3, score=1.000, total=   0.2s\n",
      "[CV] min_child_weight=2, max_depth=2, learning_rate=0.15, gamma=0.35, colsample_bytree=0.6, colsample_bynode=0.7, colsample_bylevel=0.3 \n",
      "[16:21:45] WARNING: C:/Users/Administrator/workspace/xgboost-win64_release_1.3.0/src/learner.cc:1061: Starting in XGBoost 1.3.0, the default evaluation metric used with the objective 'binary:logistic' was changed from 'error' to 'logloss'. Explicitly set eval_metric if you'd like to restore the old behavior.\n",
      "[CV]  min_child_weight=2, max_depth=2, learning_rate=0.15, gamma=0.35, colsample_bytree=0.6, colsample_bynode=0.7, colsample_bylevel=0.3, score=0.999, total=   0.2s\n",
      "[CV] min_child_weight=2, max_depth=2, learning_rate=0.15, gamma=0.35, colsample_bytree=0.6, colsample_bynode=0.7, colsample_bylevel=0.3 \n",
      "[16:21:45] WARNING: C:/Users/Administrator/workspace/xgboost-win64_release_1.3.0/src/learner.cc:1061: Starting in XGBoost 1.3.0, the default evaluation metric used with the objective 'binary:logistic' was changed from 'error' to 'logloss'. Explicitly set eval_metric if you'd like to restore the old behavior.\n",
      "[CV]  min_child_weight=2, max_depth=2, learning_rate=0.15, gamma=0.35, colsample_bytree=0.6, colsample_bynode=0.7, colsample_bylevel=0.3, score=1.000, total=   0.2s\n",
      "[CV] min_child_weight=2, max_depth=2, learning_rate=0.15, gamma=0.35, colsample_bytree=0.6, colsample_bynode=0.7, colsample_bylevel=0.3 \n",
      "[16:21:45] WARNING: C:/Users/Administrator/workspace/xgboost-win64_release_1.3.0/src/learner.cc:1061: Starting in XGBoost 1.3.0, the default evaluation metric used with the objective 'binary:logistic' was changed from 'error' to 'logloss'. Explicitly set eval_metric if you'd like to restore the old behavior.\n",
      "[CV]  min_child_weight=2, max_depth=2, learning_rate=0.15, gamma=0.35, colsample_bytree=0.6, colsample_bynode=0.7, colsample_bylevel=0.3, score=1.000, total=   0.1s\n",
      "[CV] min_child_weight=2, max_depth=2, learning_rate=0.15, gamma=0.35, colsample_bytree=0.6, colsample_bynode=0.7, colsample_bylevel=0.3 \n",
      "[16:21:45] WARNING: C:/Users/Administrator/workspace/xgboost-win64_release_1.3.0/src/learner.cc:1061: Starting in XGBoost 1.3.0, the default evaluation metric used with the objective 'binary:logistic' was changed from 'error' to 'logloss'. Explicitly set eval_metric if you'd like to restore the old behavior.\n",
      "[CV]  min_child_weight=2, max_depth=2, learning_rate=0.15, gamma=0.35, colsample_bytree=0.6, colsample_bynode=0.7, colsample_bylevel=0.3, score=1.000, total=   0.2s\n",
      "[CV] min_child_weight=2, max_depth=2, learning_rate=0.15, gamma=0.35, colsample_bytree=0.6, colsample_bynode=0.7, colsample_bylevel=0.3 \n",
      "[16:21:46] WARNING: C:/Users/Administrator/workspace/xgboost-win64_release_1.3.0/src/learner.cc:1061: Starting in XGBoost 1.3.0, the default evaluation metric used with the objective 'binary:logistic' was changed from 'error' to 'logloss'. Explicitly set eval_metric if you'd like to restore the old behavior.\n",
      "[CV]  min_child_weight=2, max_depth=2, learning_rate=0.15, gamma=0.35, colsample_bytree=0.6, colsample_bynode=0.7, colsample_bylevel=0.3, score=1.000, total=   0.2s\n",
      "[CV] min_child_weight=2, max_depth=2, learning_rate=0.15, gamma=0.35, colsample_bytree=0.6, colsample_bynode=0.7, colsample_bylevel=0.3 \n",
      "[16:21:46] WARNING: C:/Users/Administrator/workspace/xgboost-win64_release_1.3.0/src/learner.cc:1061: Starting in XGBoost 1.3.0, the default evaluation metric used with the objective 'binary:logistic' was changed from 'error' to 'logloss'. Explicitly set eval_metric if you'd like to restore the old behavior.\n",
      "[CV]  min_child_weight=2, max_depth=2, learning_rate=0.15, gamma=0.35, colsample_bytree=0.6, colsample_bynode=0.7, colsample_bylevel=0.3, score=1.000, total=   0.2s\n",
      "[CV] min_child_weight=2, max_depth=2, learning_rate=0.15, gamma=0.35, colsample_bytree=0.6, colsample_bynode=0.7, colsample_bylevel=0.3 \n",
      "[16:21:46] WARNING: C:/Users/Administrator/workspace/xgboost-win64_release_1.3.0/src/learner.cc:1061: Starting in XGBoost 1.3.0, the default evaluation metric used with the objective 'binary:logistic' was changed from 'error' to 'logloss'. Explicitly set eval_metric if you'd like to restore the old behavior.\n",
      "[CV]  min_child_weight=2, max_depth=2, learning_rate=0.15, gamma=0.35, colsample_bytree=0.6, colsample_bynode=0.7, colsample_bylevel=0.3, score=1.000, total=   0.2s\n",
      "[CV] min_child_weight=5, max_depth=4, learning_rate=0.05, gamma=0.1, colsample_bytree=0.5, colsample_bynode=0.6, colsample_bylevel=0.6 \n",
      "[16:21:46] WARNING: C:/Users/Administrator/workspace/xgboost-win64_release_1.3.0/src/learner.cc:1061: Starting in XGBoost 1.3.0, the default evaluation metric used with the objective 'binary:logistic' was changed from 'error' to 'logloss'. Explicitly set eval_metric if you'd like to restore the old behavior.\n"
     ]
    },
    {
     "name": "stdout",
     "output_type": "stream",
     "text": [
      "[CV]  min_child_weight=5, max_depth=4, learning_rate=0.05, gamma=0.1, colsample_bytree=0.5, colsample_bynode=0.6, colsample_bylevel=0.6, score=0.998, total=   0.2s\n",
      "[CV] min_child_weight=5, max_depth=4, learning_rate=0.05, gamma=0.1, colsample_bytree=0.5, colsample_bynode=0.6, colsample_bylevel=0.6 \n",
      "[16:21:46] WARNING: C:/Users/Administrator/workspace/xgboost-win64_release_1.3.0/src/learner.cc:1061: Starting in XGBoost 1.3.0, the default evaluation metric used with the objective 'binary:logistic' was changed from 'error' to 'logloss'. Explicitly set eval_metric if you'd like to restore the old behavior.\n",
      "[CV]  min_child_weight=5, max_depth=4, learning_rate=0.05, gamma=0.1, colsample_bytree=0.5, colsample_bynode=0.6, colsample_bylevel=0.6, score=1.000, total=   0.2s\n",
      "[CV] min_child_weight=5, max_depth=4, learning_rate=0.05, gamma=0.1, colsample_bytree=0.5, colsample_bynode=0.6, colsample_bylevel=0.6 \n",
      "[16:21:46] WARNING: C:/Users/Administrator/workspace/xgboost-win64_release_1.3.0/src/learner.cc:1061: Starting in XGBoost 1.3.0, the default evaluation metric used with the objective 'binary:logistic' was changed from 'error' to 'logloss'. Explicitly set eval_metric if you'd like to restore the old behavior.\n",
      "[CV]  min_child_weight=5, max_depth=4, learning_rate=0.05, gamma=0.1, colsample_bytree=0.5, colsample_bynode=0.6, colsample_bylevel=0.6, score=1.000, total=   0.2s\n",
      "[CV] min_child_weight=5, max_depth=4, learning_rate=0.05, gamma=0.1, colsample_bytree=0.5, colsample_bynode=0.6, colsample_bylevel=0.6 \n",
      "[16:21:47] WARNING: C:/Users/Administrator/workspace/xgboost-win64_release_1.3.0/src/learner.cc:1061: Starting in XGBoost 1.3.0, the default evaluation metric used with the objective 'binary:logistic' was changed from 'error' to 'logloss'. Explicitly set eval_metric if you'd like to restore the old behavior.\n",
      "[CV]  min_child_weight=5, max_depth=4, learning_rate=0.05, gamma=0.1, colsample_bytree=0.5, colsample_bynode=0.6, colsample_bylevel=0.6, score=1.000, total=   0.2s\n",
      "[CV] min_child_weight=5, max_depth=4, learning_rate=0.05, gamma=0.1, colsample_bytree=0.5, colsample_bynode=0.6, colsample_bylevel=0.6 \n",
      "[16:21:47] WARNING: C:/Users/Administrator/workspace/xgboost-win64_release_1.3.0/src/learner.cc:1061: Starting in XGBoost 1.3.0, the default evaluation metric used with the objective 'binary:logistic' was changed from 'error' to 'logloss'. Explicitly set eval_metric if you'd like to restore the old behavior.\n",
      "[CV]  min_child_weight=5, max_depth=4, learning_rate=0.05, gamma=0.1, colsample_bytree=0.5, colsample_bynode=0.6, colsample_bylevel=0.6, score=1.000, total=   0.2s\n",
      "[CV] min_child_weight=5, max_depth=4, learning_rate=0.05, gamma=0.1, colsample_bytree=0.5, colsample_bynode=0.6, colsample_bylevel=0.6 \n",
      "[16:21:47] WARNING: C:/Users/Administrator/workspace/xgboost-win64_release_1.3.0/src/learner.cc:1061: Starting in XGBoost 1.3.0, the default evaluation metric used with the objective 'binary:logistic' was changed from 'error' to 'logloss'. Explicitly set eval_metric if you'd like to restore the old behavior.\n",
      "[CV]  min_child_weight=5, max_depth=4, learning_rate=0.05, gamma=0.1, colsample_bytree=0.5, colsample_bynode=0.6, colsample_bylevel=0.6, score=1.000, total=   0.2s\n",
      "[CV] min_child_weight=5, max_depth=4, learning_rate=0.05, gamma=0.1, colsample_bytree=0.5, colsample_bynode=0.6, colsample_bylevel=0.6 \n",
      "[16:21:47] WARNING: C:/Users/Administrator/workspace/xgboost-win64_release_1.3.0/src/learner.cc:1061: Starting in XGBoost 1.3.0, the default evaluation metric used with the objective 'binary:logistic' was changed from 'error' to 'logloss'. Explicitly set eval_metric if you'd like to restore the old behavior.\n",
      "[CV]  min_child_weight=5, max_depth=4, learning_rate=0.05, gamma=0.1, colsample_bytree=0.5, colsample_bynode=0.6, colsample_bylevel=0.6, score=1.000, total=   0.2s\n",
      "[CV] min_child_weight=5, max_depth=4, learning_rate=0.05, gamma=0.1, colsample_bytree=0.5, colsample_bynode=0.6, colsample_bylevel=0.6 \n",
      "[16:21:48] WARNING: C:/Users/Administrator/workspace/xgboost-win64_release_1.3.0/src/learner.cc:1061: Starting in XGBoost 1.3.0, the default evaluation metric used with the objective 'binary:logistic' was changed from 'error' to 'logloss'. Explicitly set eval_metric if you'd like to restore the old behavior.\n",
      "[CV]  min_child_weight=5, max_depth=4, learning_rate=0.05, gamma=0.1, colsample_bytree=0.5, colsample_bynode=0.6, colsample_bylevel=0.6, score=1.000, total=   0.2s\n",
      "[CV] min_child_weight=5, max_depth=4, learning_rate=0.05, gamma=0.1, colsample_bytree=0.5, colsample_bynode=0.6, colsample_bylevel=0.6 \n",
      "[16:21:48] WARNING: C:/Users/Administrator/workspace/xgboost-win64_release_1.3.0/src/learner.cc:1061: Starting in XGBoost 1.3.0, the default evaluation metric used with the objective 'binary:logistic' was changed from 'error' to 'logloss'. Explicitly set eval_metric if you'd like to restore the old behavior.\n",
      "[CV]  min_child_weight=5, max_depth=4, learning_rate=0.05, gamma=0.1, colsample_bytree=0.5, colsample_bynode=0.6, colsample_bylevel=0.6, score=1.000, total=   0.2s\n",
      "[CV] min_child_weight=5, max_depth=4, learning_rate=0.05, gamma=0.1, colsample_bytree=0.5, colsample_bynode=0.6, colsample_bylevel=0.6 \n",
      "[16:21:48] WARNING: C:/Users/Administrator/workspace/xgboost-win64_release_1.3.0/src/learner.cc:1061: Starting in XGBoost 1.3.0, the default evaluation metric used with the objective 'binary:logistic' was changed from 'error' to 'logloss'. Explicitly set eval_metric if you'd like to restore the old behavior.\n",
      "[CV]  min_child_weight=5, max_depth=4, learning_rate=0.05, gamma=0.1, colsample_bytree=0.5, colsample_bynode=0.6, colsample_bylevel=0.6, score=1.000, total=   0.2s\n",
      "[CV] min_child_weight=5, max_depth=3, learning_rate=0.25, gamma=0, colsample_bytree=0.7, colsample_bynode=0.7, colsample_bylevel=0.6 \n",
      "[16:21:48] WARNING: C:/Users/Administrator/workspace/xgboost-win64_release_1.3.0/src/learner.cc:1061: Starting in XGBoost 1.3.0, the default evaluation metric used with the objective 'binary:logistic' was changed from 'error' to 'logloss'. Explicitly set eval_metric if you'd like to restore the old behavior.\n",
      "[CV]  min_child_weight=5, max_depth=3, learning_rate=0.25, gamma=0, colsample_bytree=0.7, colsample_bynode=0.7, colsample_bylevel=0.6, score=0.998, total=   0.1s\n",
      "[CV] min_child_weight=5, max_depth=3, learning_rate=0.25, gamma=0, colsample_bytree=0.7, colsample_bynode=0.7, colsample_bylevel=0.6 \n",
      "[16:21:48] WARNING: C:/Users/Administrator/workspace/xgboost-win64_release_1.3.0/src/learner.cc:1061: Starting in XGBoost 1.3.0, the default evaluation metric used with the objective 'binary:logistic' was changed from 'error' to 'logloss'. Explicitly set eval_metric if you'd like to restore the old behavior.\n",
      "[CV]  min_child_weight=5, max_depth=3, learning_rate=0.25, gamma=0, colsample_bytree=0.7, colsample_bynode=0.7, colsample_bylevel=0.6, score=1.000, total=   0.2s\n",
      "[CV] min_child_weight=5, max_depth=3, learning_rate=0.25, gamma=0, colsample_bytree=0.7, colsample_bynode=0.7, colsample_bylevel=0.6 \n",
      "[16:21:48] WARNING: C:/Users/Administrator/workspace/xgboost-win64_release_1.3.0/src/learner.cc:1061: Starting in XGBoost 1.3.0, the default evaluation metric used with the objective 'binary:logistic' was changed from 'error' to 'logloss'. Explicitly set eval_metric if you'd like to restore the old behavior.\n",
      "[CV]  min_child_weight=5, max_depth=3, learning_rate=0.25, gamma=0, colsample_bytree=0.7, colsample_bynode=0.7, colsample_bylevel=0.6, score=1.000, total=   0.2s\n",
      "[CV] min_child_weight=5, max_depth=3, learning_rate=0.25, gamma=0, colsample_bytree=0.7, colsample_bynode=0.7, colsample_bylevel=0.6 \n",
      "[16:21:49] WARNING: C:/Users/Administrator/workspace/xgboost-win64_release_1.3.0/src/learner.cc:1061: Starting in XGBoost 1.3.0, the default evaluation metric used with the objective 'binary:logistic' was changed from 'error' to 'logloss'. Explicitly set eval_metric if you'd like to restore the old behavior.\n",
      "[CV]  min_child_weight=5, max_depth=3, learning_rate=0.25, gamma=0, colsample_bytree=0.7, colsample_bynode=0.7, colsample_bylevel=0.6, score=0.999, total=   0.1s\n",
      "[CV] min_child_weight=5, max_depth=3, learning_rate=0.25, gamma=0, colsample_bytree=0.7, colsample_bynode=0.7, colsample_bylevel=0.6 \n",
      "[16:21:49] WARNING: C:/Users/Administrator/workspace/xgboost-win64_release_1.3.0/src/learner.cc:1061: Starting in XGBoost 1.3.0, the default evaluation metric used with the objective 'binary:logistic' was changed from 'error' to 'logloss'. Explicitly set eval_metric if you'd like to restore the old behavior.\n",
      "[CV]  min_child_weight=5, max_depth=3, learning_rate=0.25, gamma=0, colsample_bytree=0.7, colsample_bynode=0.7, colsample_bylevel=0.6, score=1.000, total=   0.1s\n",
      "[CV] min_child_weight=5, max_depth=3, learning_rate=0.25, gamma=0, colsample_bytree=0.7, colsample_bynode=0.7, colsample_bylevel=0.6 \n",
      "[16:21:49] WARNING: C:/Users/Administrator/workspace/xgboost-win64_release_1.3.0/src/learner.cc:1061: Starting in XGBoost 1.3.0, the default evaluation metric used with the objective 'binary:logistic' was changed from 'error' to 'logloss'. Explicitly set eval_metric if you'd like to restore the old behavior.\n"
     ]
    },
    {
     "name": "stdout",
     "output_type": "stream",
     "text": [
      "[CV]  min_child_weight=5, max_depth=3, learning_rate=0.25, gamma=0, colsample_bytree=0.7, colsample_bynode=0.7, colsample_bylevel=0.6, score=1.000, total=   0.1s\n",
      "[CV] min_child_weight=5, max_depth=3, learning_rate=0.25, gamma=0, colsample_bytree=0.7, colsample_bynode=0.7, colsample_bylevel=0.6 \n",
      "[16:21:49] WARNING: C:/Users/Administrator/workspace/xgboost-win64_release_1.3.0/src/learner.cc:1061: Starting in XGBoost 1.3.0, the default evaluation metric used with the objective 'binary:logistic' was changed from 'error' to 'logloss'. Explicitly set eval_metric if you'd like to restore the old behavior.\n",
      "[CV]  min_child_weight=5, max_depth=3, learning_rate=0.25, gamma=0, colsample_bytree=0.7, colsample_bynode=0.7, colsample_bylevel=0.6, score=1.000, total=   0.1s\n",
      "[CV] min_child_weight=5, max_depth=3, learning_rate=0.25, gamma=0, colsample_bytree=0.7, colsample_bynode=0.7, colsample_bylevel=0.6 \n",
      "[16:21:49] WARNING: C:/Users/Administrator/workspace/xgboost-win64_release_1.3.0/src/learner.cc:1061: Starting in XGBoost 1.3.0, the default evaluation metric used with the objective 'binary:logistic' was changed from 'error' to 'logloss'. Explicitly set eval_metric if you'd like to restore the old behavior.\n",
      "[CV]  min_child_weight=5, max_depth=3, learning_rate=0.25, gamma=0, colsample_bytree=0.7, colsample_bynode=0.7, colsample_bylevel=0.6, score=1.000, total=   0.1s\n",
      "[CV] min_child_weight=5, max_depth=3, learning_rate=0.25, gamma=0, colsample_bytree=0.7, colsample_bynode=0.7, colsample_bylevel=0.6 \n",
      "[16:21:49] WARNING: C:/Users/Administrator/workspace/xgboost-win64_release_1.3.0/src/learner.cc:1061: Starting in XGBoost 1.3.0, the default evaluation metric used with the objective 'binary:logistic' was changed from 'error' to 'logloss'. Explicitly set eval_metric if you'd like to restore the old behavior.\n",
      "[CV]  min_child_weight=5, max_depth=3, learning_rate=0.25, gamma=0, colsample_bytree=0.7, colsample_bynode=0.7, colsample_bylevel=0.6, score=1.000, total=   0.1s\n",
      "[CV] min_child_weight=5, max_depth=3, learning_rate=0.25, gamma=0, colsample_bytree=0.7, colsample_bynode=0.7, colsample_bylevel=0.6 \n",
      "[16:21:49] WARNING: C:/Users/Administrator/workspace/xgboost-win64_release_1.3.0/src/learner.cc:1061: Starting in XGBoost 1.3.0, the default evaluation metric used with the objective 'binary:logistic' was changed from 'error' to 'logloss'. Explicitly set eval_metric if you'd like to restore the old behavior.\n",
      "[CV]  min_child_weight=5, max_depth=3, learning_rate=0.25, gamma=0, colsample_bytree=0.7, colsample_bynode=0.7, colsample_bylevel=0.6, score=1.000, total=   0.1s\n",
      "[CV] min_child_weight=2, max_depth=9, learning_rate=0.25, gamma=0.35, colsample_bytree=0.3, colsample_bynode=0.7, colsample_bylevel=0.4 \n",
      "[16:21:50] WARNING: C:/Users/Administrator/workspace/xgboost-win64_release_1.3.0/src/learner.cc:1061: Starting in XGBoost 1.3.0, the default evaluation metric used with the objective 'binary:logistic' was changed from 'error' to 'logloss'. Explicitly set eval_metric if you'd like to restore the old behavior.\n",
      "[CV]  min_child_weight=2, max_depth=9, learning_rate=0.25, gamma=0.35, colsample_bytree=0.3, colsample_bynode=0.7, colsample_bylevel=0.4, score=0.999, total=   0.2s\n",
      "[CV] min_child_weight=2, max_depth=9, learning_rate=0.25, gamma=0.35, colsample_bytree=0.3, colsample_bynode=0.7, colsample_bylevel=0.4 \n",
      "[16:21:50] WARNING: C:/Users/Administrator/workspace/xgboost-win64_release_1.3.0/src/learner.cc:1061: Starting in XGBoost 1.3.0, the default evaluation metric used with the objective 'binary:logistic' was changed from 'error' to 'logloss'. Explicitly set eval_metric if you'd like to restore the old behavior.\n",
      "[CV]  min_child_weight=2, max_depth=9, learning_rate=0.25, gamma=0.35, colsample_bytree=0.3, colsample_bynode=0.7, colsample_bylevel=0.4, score=1.000, total=   0.2s\n",
      "[CV] min_child_weight=2, max_depth=9, learning_rate=0.25, gamma=0.35, colsample_bytree=0.3, colsample_bynode=0.7, colsample_bylevel=0.4 \n",
      "[16:21:50] WARNING: C:/Users/Administrator/workspace/xgboost-win64_release_1.3.0/src/learner.cc:1061: Starting in XGBoost 1.3.0, the default evaluation metric used with the objective 'binary:logistic' was changed from 'error' to 'logloss'. Explicitly set eval_metric if you'd like to restore the old behavior.\n",
      "[CV]  min_child_weight=2, max_depth=9, learning_rate=0.25, gamma=0.35, colsample_bytree=0.3, colsample_bynode=0.7, colsample_bylevel=0.4, score=1.000, total=   0.2s\n",
      "[CV] min_child_weight=2, max_depth=9, learning_rate=0.25, gamma=0.35, colsample_bytree=0.3, colsample_bynode=0.7, colsample_bylevel=0.4 \n",
      "[16:21:50] WARNING: C:/Users/Administrator/workspace/xgboost-win64_release_1.3.0/src/learner.cc:1061: Starting in XGBoost 1.3.0, the default evaluation metric used with the objective 'binary:logistic' was changed from 'error' to 'logloss'. Explicitly set eval_metric if you'd like to restore the old behavior.\n",
      "[CV]  min_child_weight=2, max_depth=9, learning_rate=0.25, gamma=0.35, colsample_bytree=0.3, colsample_bynode=0.7, colsample_bylevel=0.4, score=1.000, total=   0.2s\n",
      "[CV] min_child_weight=2, max_depth=9, learning_rate=0.25, gamma=0.35, colsample_bytree=0.3, colsample_bynode=0.7, colsample_bylevel=0.4 \n",
      "[16:21:51] WARNING: C:/Users/Administrator/workspace/xgboost-win64_release_1.3.0/src/learner.cc:1061: Starting in XGBoost 1.3.0, the default evaluation metric used with the objective 'binary:logistic' was changed from 'error' to 'logloss'. Explicitly set eval_metric if you'd like to restore the old behavior.\n",
      "[CV]  min_child_weight=2, max_depth=9, learning_rate=0.25, gamma=0.35, colsample_bytree=0.3, colsample_bynode=0.7, colsample_bylevel=0.4, score=1.000, total=   0.3s\n",
      "[CV] min_child_weight=2, max_depth=9, learning_rate=0.25, gamma=0.35, colsample_bytree=0.3, colsample_bynode=0.7, colsample_bylevel=0.4 \n",
      "[16:21:51] WARNING: C:/Users/Administrator/workspace/xgboost-win64_release_1.3.0/src/learner.cc:1061: Starting in XGBoost 1.3.0, the default evaluation metric used with the objective 'binary:logistic' was changed from 'error' to 'logloss'. Explicitly set eval_metric if you'd like to restore the old behavior.\n",
      "[CV]  min_child_weight=2, max_depth=9, learning_rate=0.25, gamma=0.35, colsample_bytree=0.3, colsample_bynode=0.7, colsample_bylevel=0.4, score=1.000, total=   0.2s\n",
      "[CV] min_child_weight=2, max_depth=9, learning_rate=0.25, gamma=0.35, colsample_bytree=0.3, colsample_bynode=0.7, colsample_bylevel=0.4 \n",
      "[16:21:51] WARNING: C:/Users/Administrator/workspace/xgboost-win64_release_1.3.0/src/learner.cc:1061: Starting in XGBoost 1.3.0, the default evaluation metric used with the objective 'binary:logistic' was changed from 'error' to 'logloss'. Explicitly set eval_metric if you'd like to restore the old behavior.\n",
      "[CV]  min_child_weight=2, max_depth=9, learning_rate=0.25, gamma=0.35, colsample_bytree=0.3, colsample_bynode=0.7, colsample_bylevel=0.4, score=1.000, total=   0.2s\n",
      "[CV] min_child_weight=2, max_depth=9, learning_rate=0.25, gamma=0.35, colsample_bytree=0.3, colsample_bynode=0.7, colsample_bylevel=0.4 \n",
      "[16:21:51] WARNING: C:/Users/Administrator/workspace/xgboost-win64_release_1.3.0/src/learner.cc:1061: Starting in XGBoost 1.3.0, the default evaluation metric used with the objective 'binary:logistic' was changed from 'error' to 'logloss'. Explicitly set eval_metric if you'd like to restore the old behavior.\n",
      "[CV]  min_child_weight=2, max_depth=9, learning_rate=0.25, gamma=0.35, colsample_bytree=0.3, colsample_bynode=0.7, colsample_bylevel=0.4, score=1.000, total=   0.2s\n",
      "[CV] min_child_weight=2, max_depth=9, learning_rate=0.25, gamma=0.35, colsample_bytree=0.3, colsample_bynode=0.7, colsample_bylevel=0.4 \n",
      "[16:21:52] WARNING: C:/Users/Administrator/workspace/xgboost-win64_release_1.3.0/src/learner.cc:1061: Starting in XGBoost 1.3.0, the default evaluation metric used with the objective 'binary:logistic' was changed from 'error' to 'logloss'. Explicitly set eval_metric if you'd like to restore the old behavior.\n",
      "[CV]  min_child_weight=2, max_depth=9, learning_rate=0.25, gamma=0.35, colsample_bytree=0.3, colsample_bynode=0.7, colsample_bylevel=0.4, score=1.000, total=   0.2s\n",
      "[CV] min_child_weight=2, max_depth=9, learning_rate=0.25, gamma=0.35, colsample_bytree=0.3, colsample_bynode=0.7, colsample_bylevel=0.4 \n",
      "[16:21:52] WARNING: C:/Users/Administrator/workspace/xgboost-win64_release_1.3.0/src/learner.cc:1061: Starting in XGBoost 1.3.0, the default evaluation metric used with the objective 'binary:logistic' was changed from 'error' to 'logloss'. Explicitly set eval_metric if you'd like to restore the old behavior.\n"
     ]
    },
    {
     "name": "stdout",
     "output_type": "stream",
     "text": [
      "[CV]  min_child_weight=2, max_depth=9, learning_rate=0.25, gamma=0.35, colsample_bytree=0.3, colsample_bynode=0.7, colsample_bylevel=0.4, score=1.000, total=   0.2s\n",
      "[CV] min_child_weight=2, max_depth=6, learning_rate=0.15, gamma=0.3, colsample_bytree=0.5, colsample_bynode=0.4, colsample_bylevel=0.5 \n",
      "[16:21:52] WARNING: C:/Users/Administrator/workspace/xgboost-win64_release_1.3.0/src/learner.cc:1061: Starting in XGBoost 1.3.0, the default evaluation metric used with the objective 'binary:logistic' was changed from 'error' to 'logloss'. Explicitly set eval_metric if you'd like to restore the old behavior.\n",
      "[CV]  min_child_weight=2, max_depth=6, learning_rate=0.15, gamma=0.3, colsample_bytree=0.5, colsample_bynode=0.4, colsample_bylevel=0.5, score=0.998, total=   0.2s\n",
      "[CV] min_child_weight=2, max_depth=6, learning_rate=0.15, gamma=0.3, colsample_bytree=0.5, colsample_bynode=0.4, colsample_bylevel=0.5 \n",
      "[16:21:52] WARNING: C:/Users/Administrator/workspace/xgboost-win64_release_1.3.0/src/learner.cc:1061: Starting in XGBoost 1.3.0, the default evaluation metric used with the objective 'binary:logistic' was changed from 'error' to 'logloss'. Explicitly set eval_metric if you'd like to restore the old behavior.\n",
      "[CV]  min_child_weight=2, max_depth=6, learning_rate=0.15, gamma=0.3, colsample_bytree=0.5, colsample_bynode=0.4, colsample_bylevel=0.5, score=1.000, total=   0.2s\n",
      "[CV] min_child_weight=2, max_depth=6, learning_rate=0.15, gamma=0.3, colsample_bytree=0.5, colsample_bynode=0.4, colsample_bylevel=0.5 \n",
      "[16:21:52] WARNING: C:/Users/Administrator/workspace/xgboost-win64_release_1.3.0/src/learner.cc:1061: Starting in XGBoost 1.3.0, the default evaluation metric used with the objective 'binary:logistic' was changed from 'error' to 'logloss'. Explicitly set eval_metric if you'd like to restore the old behavior.\n",
      "[CV]  min_child_weight=2, max_depth=6, learning_rate=0.15, gamma=0.3, colsample_bytree=0.5, colsample_bynode=0.4, colsample_bylevel=0.5, score=1.000, total=   0.2s\n",
      "[CV] min_child_weight=2, max_depth=6, learning_rate=0.15, gamma=0.3, colsample_bytree=0.5, colsample_bynode=0.4, colsample_bylevel=0.5 \n",
      "[16:21:53] WARNING: C:/Users/Administrator/workspace/xgboost-win64_release_1.3.0/src/learner.cc:1061: Starting in XGBoost 1.3.0, the default evaluation metric used with the objective 'binary:logistic' was changed from 'error' to 'logloss'. Explicitly set eval_metric if you'd like to restore the old behavior.\n",
      "[CV]  min_child_weight=2, max_depth=6, learning_rate=0.15, gamma=0.3, colsample_bytree=0.5, colsample_bynode=0.4, colsample_bylevel=0.5, score=1.000, total=   0.2s\n",
      "[CV] min_child_weight=2, max_depth=6, learning_rate=0.15, gamma=0.3, colsample_bytree=0.5, colsample_bynode=0.4, colsample_bylevel=0.5 \n",
      "[16:21:53] WARNING: C:/Users/Administrator/workspace/xgboost-win64_release_1.3.0/src/learner.cc:1061: Starting in XGBoost 1.3.0, the default evaluation metric used with the objective 'binary:logistic' was changed from 'error' to 'logloss'. Explicitly set eval_metric if you'd like to restore the old behavior.\n",
      "[CV]  min_child_weight=2, max_depth=6, learning_rate=0.15, gamma=0.3, colsample_bytree=0.5, colsample_bynode=0.4, colsample_bylevel=0.5, score=1.000, total=   0.2s\n",
      "[CV] min_child_weight=2, max_depth=6, learning_rate=0.15, gamma=0.3, colsample_bytree=0.5, colsample_bynode=0.4, colsample_bylevel=0.5 \n",
      "[16:21:53] WARNING: C:/Users/Administrator/workspace/xgboost-win64_release_1.3.0/src/learner.cc:1061: Starting in XGBoost 1.3.0, the default evaluation metric used with the objective 'binary:logistic' was changed from 'error' to 'logloss'. Explicitly set eval_metric if you'd like to restore the old behavior.\n",
      "[CV]  min_child_weight=2, max_depth=6, learning_rate=0.15, gamma=0.3, colsample_bytree=0.5, colsample_bynode=0.4, colsample_bylevel=0.5, score=1.000, total=   0.2s\n",
      "[CV] min_child_weight=2, max_depth=6, learning_rate=0.15, gamma=0.3, colsample_bytree=0.5, colsample_bynode=0.4, colsample_bylevel=0.5 \n",
      "[16:21:53] WARNING: C:/Users/Administrator/workspace/xgboost-win64_release_1.3.0/src/learner.cc:1061: Starting in XGBoost 1.3.0, the default evaluation metric used with the objective 'binary:logistic' was changed from 'error' to 'logloss'. Explicitly set eval_metric if you'd like to restore the old behavior.\n",
      "[CV]  min_child_weight=2, max_depth=6, learning_rate=0.15, gamma=0.3, colsample_bytree=0.5, colsample_bynode=0.4, colsample_bylevel=0.5, score=1.000, total=   0.2s\n",
      "[CV] min_child_weight=2, max_depth=6, learning_rate=0.15, gamma=0.3, colsample_bytree=0.5, colsample_bynode=0.4, colsample_bylevel=0.5 \n",
      "[16:21:53] WARNING: C:/Users/Administrator/workspace/xgboost-win64_release_1.3.0/src/learner.cc:1061: Starting in XGBoost 1.3.0, the default evaluation metric used with the objective 'binary:logistic' was changed from 'error' to 'logloss'. Explicitly set eval_metric if you'd like to restore the old behavior.\n",
      "[CV]  min_child_weight=2, max_depth=6, learning_rate=0.15, gamma=0.3, colsample_bytree=0.5, colsample_bynode=0.4, colsample_bylevel=0.5, score=1.000, total=   0.2s\n",
      "[CV] min_child_weight=2, max_depth=6, learning_rate=0.15, gamma=0.3, colsample_bytree=0.5, colsample_bynode=0.4, colsample_bylevel=0.5 \n",
      "[16:21:54] WARNING: C:/Users/Administrator/workspace/xgboost-win64_release_1.3.0/src/learner.cc:1061: Starting in XGBoost 1.3.0, the default evaluation metric used with the objective 'binary:logistic' was changed from 'error' to 'logloss'. Explicitly set eval_metric if you'd like to restore the old behavior.\n",
      "[CV]  min_child_weight=2, max_depth=6, learning_rate=0.15, gamma=0.3, colsample_bytree=0.5, colsample_bynode=0.4, colsample_bylevel=0.5, score=1.000, total=   0.2s\n",
      "[CV] min_child_weight=2, max_depth=6, learning_rate=0.15, gamma=0.3, colsample_bytree=0.5, colsample_bynode=0.4, colsample_bylevel=0.5 \n",
      "[16:21:54] WARNING: C:/Users/Administrator/workspace/xgboost-win64_release_1.3.0/src/learner.cc:1061: Starting in XGBoost 1.3.0, the default evaluation metric used with the objective 'binary:logistic' was changed from 'error' to 'logloss'. Explicitly set eval_metric if you'd like to restore the old behavior.\n",
      "[CV]  min_child_weight=2, max_depth=6, learning_rate=0.15, gamma=0.3, colsample_bytree=0.5, colsample_bynode=0.4, colsample_bylevel=0.5, score=1.000, total=   0.2s\n",
      "[16:21:54] WARNING: C:/Users/Administrator/workspace/xgboost-win64_release_1.3.0/src/learner.cc:1061: Starting in XGBoost 1.3.0, the default evaluation metric used with the objective 'binary:logistic' was changed from 'error' to 'logloss'. Explicitly set eval_metric if you'd like to restore the old behavior.\n"
     ]
    },
    {
     "name": "stderr",
     "output_type": "stream",
     "text": [
      "[Parallel(n_jobs=1)]: Done  70 out of  70 | elapsed:   15.7s finished\n"
     ]
    },
    {
     "data": {
      "text/plain": [
       "RandomizedSearchCV(cv=10,\n",
       "                   estimator=XGBClassifier(base_score=None, booster=None,\n",
       "                                           colsample_bylevel=None,\n",
       "                                           colsample_bynode=None,\n",
       "                                           colsample_bytree=None, gamma=None,\n",
       "                                           gpu_id=None, importance_type='gain',\n",
       "                                           interaction_constraints=None,\n",
       "                                           learning_rate=None,\n",
       "                                           max_delta_step=None, max_depth=None,\n",
       "                                           min_child_weight=None, missing=nan,\n",
       "                                           monotone_constraints=None,\n",
       "                                           n_estimators=100...\n",
       "                   param_distributions={'colsample_bylevel': [0.3, 0.4, 0.5,\n",
       "                                                              0.6, 0.7],\n",
       "                                        'colsample_bynode': [0.3, 0.4, 0.5, 0.6,\n",
       "                                                             0.7],\n",
       "                                        'colsample_bytree': [0.3, 0.4, 0.5, 0.6,\n",
       "                                                             0.7],\n",
       "                                        'gamma': [0, 0.05, 0.1, 0.15, 0.2, 0.25,\n",
       "                                                  0.3, 0.35, 0.4, 0.45, 0.5],\n",
       "                                        'learning_rate': [0.001, 0.005, 0.01,\n",
       "                                                          0.05, 0.1, 0.15, 0.2,\n",
       "                                                          0.25, 0.3, 0.35],\n",
       "                                        'max_depth': [2, 3, 4, 5, 6, 7, 8, 9,\n",
       "                                                      10, 11, 12, 13, 14],\n",
       "                                        'min_child_weight': [1, 2, 3, 4, 5, 6]},\n",
       "                   scoring='roc_auc', verbose=3)"
      ]
     },
     "execution_count": 22,
     "metadata": {},
     "output_type": "execute_result"
    }
   ],
   "source": [
    "# RandomizedSearchCV to fit the model to the training set\n",
    "rand_search.fit(X_train, y_train)"
   ]
  },
  {
   "cell_type": "code",
   "execution_count": 23,
   "metadata": {},
   "outputs": [
    {
     "data": {
      "text/plain": [
       "XGBClassifier(base_score=0.5, booster='gbtree', colsample_bylevel=0.5,\n",
       "              colsample_bynode=0.5, colsample_bytree=0.6, gamma=0.25, gpu_id=-1,\n",
       "              importance_type='gain', interaction_constraints='',\n",
       "              learning_rate=0.1, max_delta_step=0, max_depth=14,\n",
       "              min_child_weight=6, missing=nan, monotone_constraints='()',\n",
       "              n_estimators=100, n_jobs=8, num_parallel_tree=1, random_state=0,\n",
       "              reg_alpha=0, reg_lambda=1, scale_pos_weight=1, subsample=1,\n",
       "              tree_method='exact', validate_parameters=1, verbosity=None)"
      ]
     },
     "execution_count": 23,
     "metadata": {},
     "output_type": "execute_result"
    }
   ],
   "source": [
    "# Best estimator returns optimal values for all the hyperparameters of the RandomizedSearchCV()\n",
    "rand_search.best_estimator_"
   ]
  },
  {
   "cell_type": "code",
   "execution_count": 23,
   "metadata": {},
   "outputs": [
    {
     "data": {
      "text/plain": [
       "{'min_child_weight': 5,\n",
       " 'max_depth': 7,\n",
       " 'learning_rate': 0.3,\n",
       " 'gamma': 0.4,\n",
       " 'colsample_bytree': 0.7,\n",
       " 'colsample_bynode': 0.5,\n",
       " 'colsample_bylevel': 0.7}"
      ]
     },
     "execution_count": 23,
     "metadata": {},
     "output_type": "execute_result"
    }
   ],
   "source": [
    "# Best params returns optimal values for the previously defined opt_parameters(dict)  \n",
    "rand_search.best_params_"
   ]
  },
  {
   "cell_type": "code",
   "execution_count": 24,
   "metadata": {},
   "outputs": [
    {
     "data": {
      "text/plain": [
       "0.999916741005055"
      ]
     },
     "execution_count": 24,
     "metadata": {},
     "output_type": "execute_result"
    }
   ],
   "source": [
    "# Best score obtained from the RandomizedSearchCV()\n",
    "rand_search.best_score_"
   ]
  },
  {
   "cell_type": "code",
   "execution_count": 25,
   "metadata": {},
   "outputs": [
    {
     "data": {
      "text/plain": [
       "{'mean_fit_time': array([0.20134144, 0.13973405, 0.20962527, 0.1799973 , 0.27766347,\n",
       "        0.30530727, 0.16205988]),\n",
       " 'std_fit_time': array([0.01771861, 0.01072999, 0.01357797, 0.00889421, 0.02049321,\n",
       "        0.02226698, 0.01193352]),\n",
       " 'mean_score_time': array([0.00468767, 0.00498457, 0.00409584, 0.00389822, 0.00383565,\n",
       "        0.00473814, 0.00393727]),\n",
       " 'std_score_time': array([0.00280098, 0.00090618, 0.0013204 , 0.00063582, 0.00063546,\n",
       "        0.00102355, 0.00051584]),\n",
       " 'param_min_child_weight': masked_array(data=[2, 5, 4, 1, 5, 1, 2],\n",
       "              mask=[False, False, False, False, False, False, False],\n",
       "        fill_value='?',\n",
       "             dtype=object),\n",
       " 'param_max_depth': masked_array(data=[10, 7, 5, 3, 7, 7, 4],\n",
       "              mask=[False, False, False, False, False, False, False],\n",
       "        fill_value='?',\n",
       "             dtype=object),\n",
       " 'param_learning_rate': masked_array(data=[0.3, 0.3, 0.05, 0.01, 0.001, 0.01, 0.35],\n",
       "              mask=[False, False, False, False, False, False, False],\n",
       "        fill_value='?',\n",
       "             dtype=object),\n",
       " 'param_gamma': masked_array(data=[0.3, 0.4, 0, 0.2, 0.3, 0.1, 0],\n",
       "              mask=[False, False, False, False, False, False, False],\n",
       "        fill_value='?',\n",
       "             dtype=object),\n",
       " 'param_colsample_bytree': masked_array(data=[0.7, 0.7, 0.6, 0.6, 0.4, 0.6, 0.6],\n",
       "              mask=[False, False, False, False, False, False, False],\n",
       "        fill_value='?',\n",
       "             dtype=object),\n",
       " 'param_colsample_bynode': masked_array(data=[0.4, 0.5, 0.4, 0.4, 0.6, 0.7, 0.3],\n",
       "              mask=[False, False, False, False, False, False, False],\n",
       "        fill_value='?',\n",
       "             dtype=object),\n",
       " 'param_colsample_bylevel': masked_array(data=[0.3, 0.7, 0.7, 0.5, 0.5, 0.3, 0.4],\n",
       "              mask=[False, False, False, False, False, False, False],\n",
       "        fill_value='?',\n",
       "             dtype=object),\n",
       " 'params': [{'min_child_weight': 2,\n",
       "   'max_depth': 10,\n",
       "   'learning_rate': 0.3,\n",
       "   'gamma': 0.3,\n",
       "   'colsample_bytree': 0.7,\n",
       "   'colsample_bynode': 0.4,\n",
       "   'colsample_bylevel': 0.3},\n",
       "  {'min_child_weight': 5,\n",
       "   'max_depth': 7,\n",
       "   'learning_rate': 0.3,\n",
       "   'gamma': 0.4,\n",
       "   'colsample_bytree': 0.7,\n",
       "   'colsample_bynode': 0.5,\n",
       "   'colsample_bylevel': 0.7},\n",
       "  {'min_child_weight': 4,\n",
       "   'max_depth': 5,\n",
       "   'learning_rate': 0.05,\n",
       "   'gamma': 0,\n",
       "   'colsample_bytree': 0.6,\n",
       "   'colsample_bynode': 0.4,\n",
       "   'colsample_bylevel': 0.7},\n",
       "  {'min_child_weight': 1,\n",
       "   'max_depth': 3,\n",
       "   'learning_rate': 0.01,\n",
       "   'gamma': 0.2,\n",
       "   'colsample_bytree': 0.6,\n",
       "   'colsample_bynode': 0.4,\n",
       "   'colsample_bylevel': 0.5},\n",
       "  {'min_child_weight': 5,\n",
       "   'max_depth': 7,\n",
       "   'learning_rate': 0.001,\n",
       "   'gamma': 0.3,\n",
       "   'colsample_bytree': 0.4,\n",
       "   'colsample_bynode': 0.6,\n",
       "   'colsample_bylevel': 0.5},\n",
       "  {'min_child_weight': 1,\n",
       "   'max_depth': 7,\n",
       "   'learning_rate': 0.01,\n",
       "   'gamma': 0.1,\n",
       "   'colsample_bytree': 0.6,\n",
       "   'colsample_bynode': 0.7,\n",
       "   'colsample_bylevel': 0.3},\n",
       "  {'min_child_weight': 2,\n",
       "   'max_depth': 4,\n",
       "   'learning_rate': 0.35,\n",
       "   'gamma': 0,\n",
       "   'colsample_bytree': 0.6,\n",
       "   'colsample_bynode': 0.3,\n",
       "   'colsample_bylevel': 0.4}],\n",
       " 'split0_test_score': array([0.99958371, 0.99976212, 0.99910794, 0.99815641, 0.99851323,\n",
       "        0.99827535, 0.99922688]),\n",
       " 'split1_test_score': array([1.        , 1.        , 0.99982159, 0.99458817, 0.99137675,\n",
       "        0.99720488, 1.        ]),\n",
       " 'split2_test_score': array([0.99976212, 0.99976212, 0.99982159, 0.99214987, 0.99214987,\n",
       "        0.99220934, 0.99976212]),\n",
       " 'split3_test_score': array([0.99988106, 0.99964318, 0.99916741, 0.98768956, 0.9872138 ,\n",
       "        0.99113886, 0.99940529]),\n",
       " 'split4_test_score': array([1.        , 1.        , 1.        , 1.        , 0.99934582,\n",
       "        0.99988106, 1.        ]),\n",
       " 'split5_test_score': array([0.99993947, 1.        , 0.99993947, 0.99485472, 0.99424939,\n",
       "        0.99884988, 0.99993947]),\n",
       " 'split6_test_score': array([1., 1., 1., 1., 1., 1., 1.]),\n",
       " 'split7_test_score': array([1.        , 1.        , 0.99987893, 0.99570218, 0.99539952,\n",
       "        0.99921308, 1.        ]),\n",
       " 'split8_test_score': array([1.        , 1.        , 0.99988065, 0.99504714, 0.99128774,\n",
       "        0.99815014, 0.99988065]),\n",
       " 'split9_test_score': array([0.99976131, 1.        , 0.99988065, 0.99445041, 0.99516649,\n",
       "        0.99761308, 0.99982098]),\n",
       " 'mean_test_score': array([0.99989277, 0.99991674, 0.99974982, 0.99526385, 0.99447026,\n",
       "        0.99725357, 0.99980354]),\n",
       " 'std_test_score': array([0.00013773, 0.00013084, 0.00031202, 0.00349028, 0.00387079,\n",
       "        0.00292657, 0.00025922]),\n",
       " 'rank_test_score': array([2, 1, 4, 6, 7, 5, 3])}"
      ]
     },
     "execution_count": 25,
     "metadata": {},
     "output_type": "execute_result"
    }
   ],
   "source": [
    "# RandomizedSearchCV cross validation results\n",
    "rand_search.cv_results_"
   ]
  },
  {
   "cell_type": "code",
   "execution_count": 26,
   "metadata": {
    "scrolled": true
   },
   "outputs": [
    {
     "data": {
      "text/plain": [
       "array([0.99989277, 0.99991674, 0.99974982, 0.99526385, 0.99447026,\n",
       "       0.99725357, 0.99980354])"
      ]
     },
     "execution_count": 26,
     "metadata": {},
     "output_type": "execute_result"
    }
   ],
   "source": [
    "# Mean test score for each split\n",
    "rand_search.cv_results_['mean_test_score']"
   ]
  },
  {
   "cell_type": "code",
   "execution_count": 27,
   "metadata": {},
   "outputs": [
    {
     "data": {
      "text/plain": [
       "0.998050077343711"
      ]
     },
     "execution_count": 27,
     "metadata": {},
     "output_type": "execute_result"
    }
   ],
   "source": [
    "# Mean test score of all splits\n",
    "rand_search.cv_results_['mean_test_score'].mean()"
   ]
  },
  {
   "cell_type": "code",
   "execution_count": 28,
   "metadata": {
    "scrolled": false
   },
   "outputs": [
    {
     "name": "stdout",
     "output_type": "stream",
     "text": [
      "[0]\tvalidation_0-aucpr:0.64730\n",
      "[1]\tvalidation_0-aucpr:0.98156\n",
      "[2]\tvalidation_0-aucpr:0.98191\n",
      "[3]\tvalidation_0-aucpr:0.98325\n",
      "[4]\tvalidation_0-aucpr:0.98529\n",
      "[5]\tvalidation_0-aucpr:0.98415\n",
      "[6]\tvalidation_0-aucpr:0.98606\n",
      "[7]\tvalidation_0-aucpr:0.98603\n",
      "[8]\tvalidation_0-aucpr:0.98861\n",
      "[9]\tvalidation_0-aucpr:0.99111\n",
      "[10]\tvalidation_0-aucpr:0.99199\n",
      "[11]\tvalidation_0-aucpr:0.99206\n",
      "[12]\tvalidation_0-aucpr:0.99105\n",
      "[13]\tvalidation_0-aucpr:0.99125\n",
      "[14]\tvalidation_0-aucpr:0.99047\n",
      "[15]\tvalidation_0-aucpr:0.98982\n",
      "[16]\tvalidation_0-aucpr:0.99048\n",
      "[17]\tvalidation_0-aucpr:0.99203\n",
      "[18]\tvalidation_0-aucpr:0.99187\n",
      "[19]\tvalidation_0-aucpr:0.99221\n",
      "[20]\tvalidation_0-aucpr:0.99298\n",
      "[21]\tvalidation_0-aucpr:0.99265\n",
      "[22]\tvalidation_0-aucpr:0.99291\n",
      "[23]\tvalidation_0-aucpr:0.99277\n",
      "[24]\tvalidation_0-aucpr:0.99354\n",
      "[25]\tvalidation_0-aucpr:0.99380\n",
      "[26]\tvalidation_0-aucpr:0.99426\n",
      "[27]\tvalidation_0-aucpr:0.99442\n",
      "[28]\tvalidation_0-aucpr:0.99448\n",
      "[29]\tvalidation_0-aucpr:0.99463\n",
      "[30]\tvalidation_0-aucpr:0.99481\n",
      "[31]\tvalidation_0-aucpr:0.99500\n",
      "[32]\tvalidation_0-aucpr:0.99501\n",
      "[33]\tvalidation_0-aucpr:0.99531\n",
      "[34]\tvalidation_0-aucpr:0.99533\n",
      "[35]\tvalidation_0-aucpr:0.99546\n",
      "[36]\tvalidation_0-aucpr:0.99588\n",
      "[37]\tvalidation_0-aucpr:0.99580\n",
      "[38]\tvalidation_0-aucpr:0.99576\n",
      "[39]\tvalidation_0-aucpr:0.99583\n",
      "[40]\tvalidation_0-aucpr:0.99578\n",
      "[41]\tvalidation_0-aucpr:0.99583\n",
      "[42]\tvalidation_0-aucpr:0.99586\n",
      "[43]\tvalidation_0-aucpr:0.99583\n",
      "[44]\tvalidation_0-aucpr:0.99596\n",
      "[45]\tvalidation_0-aucpr:0.99596\n",
      "[46]\tvalidation_0-aucpr:0.99599\n",
      "[47]\tvalidation_0-aucpr:0.99599\n",
      "[48]\tvalidation_0-aucpr:0.99597\n",
      "[49]\tvalidation_0-aucpr:0.99597\n",
      "[50]\tvalidation_0-aucpr:0.99595\n",
      "[51]\tvalidation_0-aucpr:0.99594\n",
      "[52]\tvalidation_0-aucpr:0.99597\n",
      "[53]\tvalidation_0-aucpr:0.99597\n",
      "[54]\tvalidation_0-aucpr:0.99597\n",
      "[55]\tvalidation_0-aucpr:0.99597\n"
     ]
    },
    {
     "data": {
      "text/plain": [
       "XGBClassifier(base_score=0.5, booster='gbtree', colsample_bylevel=0.7,\n",
       "              colsample_bynode=0.3, colsample_bytree=0.7, gamma=0.35, gpu_id=-1,\n",
       "              importance_type='gain', interaction_constraints='',\n",
       "              learning_rate=0.1, max_delta_step=0, max_depth=8,\n",
       "              min_child_weight=1, missing=None, monotone_constraints='()',\n",
       "              n_estimators=100, n_jobs=8, num_parallel_tree=1, random_state=0,\n",
       "              reg_alpha=0, reg_lambda=1, scale_pos_weight=1, seed=0,\n",
       "              subsample=1, tree_method='exact', validate_parameters=1,\n",
       "              verbosity=None)"
      ]
     },
     "execution_count": 28,
     "metadata": {},
     "output_type": "execute_result"
    }
   ],
   "source": [
    "# Fitting the model to the training set by using the RandomizedSearchCV best params\n",
    "\n",
    "xgboost_clf=XGBClassifier(objective='binary:logistic',missing=None,booster='gbtree',n_estimators=100,scale_pos_weight=1,\n",
    "                          min_child_weight=1,max_depth=8,learning_rate=0.1,gamma=0.35,\n",
    "                          colsample_bylevel=0.7,colsample_bynode=0.3,colsample_bytree=0.7,seed=0)\n",
    "xgboost_clf.fit(X_train,y_train,verbose=True,early_stopping_rounds=10,eval_metric='aucpr',eval_set=[(X_test,y_test)])"
   ]
  },
  {
   "cell_type": "code",
   "execution_count": 29,
   "metadata": {},
   "outputs": [],
   "source": [
    "# XGBClassifier Predictions on the test set\n",
    "ypred=xgboost_clf.predict(X_test)"
   ]
  },
  {
   "cell_type": "code",
   "execution_count": 30,
   "metadata": {},
   "outputs": [],
   "source": [
    "# Importing the metrics\n",
    "from sklearn.metrics import classification_report,plot_confusion_matrix\n"
   ]
  },
  {
   "cell_type": "code",
   "execution_count": 31,
   "metadata": {
    "scrolled": true
   },
   "outputs": [
    {
     "name": "stdout",
     "output_type": "stream",
     "text": [
      "              precision    recall  f1-score   support\n",
      "\n",
      "       False       0.99      1.00      1.00       984\n",
      "        True       1.00      0.97      0.98       188\n",
      "\n",
      "    accuracy                           0.99      1172\n",
      "   macro avg       1.00      0.98      0.99      1172\n",
      "weighted avg       0.99      0.99      0.99      1172\n",
      "\n"
     ]
    }
   ],
   "source": [
    "# Classification report. As it can be observed, F1 scores are very high,meaning that the xgboost has provided very accurate\n",
    "# classifications (i.e. whether an asteroid is hazardous or not)\n",
    "print(classification_report(y_test,ypred))"
   ]
  },
  {
   "cell_type": "code",
   "execution_count": 32,
   "metadata": {},
   "outputs": [
    {
     "data": {
      "image/png": "[encoded data removed]",
      "text/plain": [
       "<Figure size 576x576 with 2 Axes>"
      ]
     },
     "metadata": {
      "needs_background": "light"
     },
     "output_type": "display_data"
    }
   ],
   "source": [
    "# Confusion Matrix\n",
    "fig, axs = plt.subplots(figsize=(8,8))\n",
    "plot_confusion_matrix(xgboost_clf,X_test,y_test,values_format='d',\n",
    "                      display_labels=['Not Hazardous','Hazardous'],cmap='plasma',ax=axs);\n"
   ]
  }
 ],
 "metadata": {
  "kernelspec": {
   "display_name": "Python 3",
   "language": "python",
   "name": "python3"
  },
  "language_info": {
   "codemirror_mode": {
    "name": "ipython",
    "version": 3
   },
   "file_extension": ".py",
   "mimetype": "text/x-python",
   "name": "python",
   "nbconvert_exporter": "python",
   "pygments_lexer": "ipython3",
   "version": "3.8.5"
  }
 },
 "nbformat": 4,
 "nbformat_minor": 4
}
